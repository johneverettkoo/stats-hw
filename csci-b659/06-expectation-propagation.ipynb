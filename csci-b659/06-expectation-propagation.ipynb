{
 "cells": [
  {
   "cell_type": "markdown",
   "metadata": {},
   "source": [
    "recall:\n",
    "\n",
    "* variational inference minimizes $d_{KL}(q||p) = E_{q(z)}[\\log\\frac{q(z)}{p(z)}]$\n",
    "* alternatively minimize $d_{KL}(p||q) = E_{p(z)}[\\log \\frac{p(z)}{q(z)}]$\n",
    "* which is easier? better?\n",
    "\n",
    "other divergence measures\n",
    "\n",
    "* alpha divergence\n",
    "* L1 distance $d_{L1}(p, q) = \\sum_z \\frac{|p(z) - q(z)|}{2} = \\max_{A \\subset Z} |p(A) - q(A)|$\n",
    "    * event E: $P_p(E) = \\alpha \\implies P_q(E) \\in \\alpha \\pm d_{L1}(p, q)$\n",
    "    * $\\alpha = \\{x | p(x) \\geq q(x)\\}$  \n",
    "      $\\beta = \\{x | p(x) < q(x)\\}$\n",
    "    * $d_{L1}(p, q) = \\frac{1}{2}(\\sum_{x \\in \\alpha} (p(x) - q(x)) + \\sum_{x \\in \\beta} (q(x) - p(x)))$  \n",
    "    $= \\frac{1}{2} (p(\\alpha - q(\\alpha) + q(\\beta) - p(\\beta))$  \n",
    "    $= \\frac{1}{2} 2 (p(\\alpha) - q(\\alpha))$  \n",
    "    $= p(\\alpha) - q(\\alpha)$  \n",
    "    $= \\max_{A \\subset X} p(A) - q(A)$"
   ]
  },
  {
   "cell_type": "markdown",
   "metadata": {},
   "source": [
    "properties of $d_{KL}$ criteria\n",
    "\n",
    "* zero forcing and zero avoiding\n",
    "* if $p$ is multimodal, $d(p||q)$ averages out the modes while $d(q||p)$ concentrates to one mode\n",
    "* "
   ]
  },
  {
   "cell_type": "markdown",
   "metadata": {},
   "source": [
    "## calculus of variations / functional derivatives\n",
    "\n",
    "$\\arg\\max_{y(\\cdot)} F(y(x))$  \n",
    "$\\forall x$, $y(x)$ s.t. $\\frac{\\partial F}{\\partial y(x)} = 0$\n",
    "\n",
    "* $F(y(x)) = \\int_x G(y(x), y'(x), x) dx$  \n",
    "$\\implies$ optimal $y(x)$ satisifies ...\n",
    "* $F(y(x)) = \\int_x G(y(x), x) dx$  \n",
    "then optimal solution for $y$ satisfies $\\frac{\\partial G}{\\partial y(x)} = 0$ $\\forall x$"
   ]
  },
  {
   "cell_type": "markdown",
   "metadata": {},
   "source": [
    "**e.g.** calculate optimal predictor for square loss\n",
    "\n",
    "* $L(t, y(x)) = (t - y(x))^2$\n",
    "* given $p(x, t)$\n",
    "* given $x^*$, what label should we predict\n",
    "* expected loss: $E[L] = \\int_x \\int_t (t - y(x))^2 p(x, t) dt dx$\n",
    "* then $G(y(x), x) = \\int_t (t - y(x))^2 p(x, t) dt$\n",
    "* $\\partial G_{y(x)} = -\\int_t 2 (t - y(x)) p(x, t) dt = 0$\n",
    "* $\\implies \\int_t t p(x, t) dt = \\int_t y(x) p(x, t) dt$  \n",
    "$= y(x) \\int_t p(x, t) dt = y(x) p(x)$  \n",
    "$\\implies y(x) = \\int_t t \\frac{p(x, t)}{p(x)} dt$  \n",
    "$= \\int_t t p(t | x) dt$  \n",
    "$= E[t | x]$"
   ]
  },
  {
   "cell_type": "markdown",
   "metadata": {},
   "source": [
    "**e.g.** generic solution for mean field variational inference\n",
    "\n",
    "* $p(x, z_1, z_2)$\n",
    "* $x$ observed\n",
    "* $z_1, z_2$ latent\n",
    "* $q(z_1, z_2) = q(z_1) q(z_2)$\n",
    "* $ELBO = E_q [\\log \\frac{p(x, z_1, z_2)}{q(z_1, z_2)}]$  \n",
    "$= \\int_{z_1} \\int_{z_2} q(z_1) q(z_2) (\\log p(x, z_1, z_2) - \\log q(z_1) - \\log q(z_2)) d z_2 d z_1 + \\lambda (\\int q(z_1) d z_1 - 1)$\n",
    "* want to optimize w.r.t. $q(z_1)$\n",
    "* $G = \\int_{z_2} q(z_1) q(z_2) (\\log p(x, z_1, z_2) - \\log q(z_1) - \\log q(z_2)) d z_2 + \\lambda q(z_1)$\n",
    "* $\\partial G_{q(z_1)} = \\int_{z_2} q(z_2) (\\log p(x, z_1, z_2) - \\log q(z_1) - \\log q(z_2)) d z_2 - \\int_{z_2} q(z_1) q(z_2) (q(z_1))^{-1} d z_2 + \\lambda$  \n",
    "$= E_{q(z_2)} [\\log p(x, z_1, z_2)] - \\log q(z_1) - H(q(z_2)) - 1 + \\lambda$  \n",
    "$\\implies \\log q(z_1) = constant + E_{q(z_2)}[\\log p(x, z_1, z_2)]$"
   ]
  },
  {
   "cell_type": "markdown",
   "metadata": {},
   "source": [
    "$d_{KL}(p||q) = E_{p(z)}[\\log \\frac{p(z)}{q(z)}]$\n",
    "\n",
    "consider factorized approximation $q(z) = \\prod_i q(z_i)$\n",
    "\n",
    "$d = \\int p(z) \\log p(z) dz - \\int p(z) \\sum_i \\log q(z_i) dz$  \n",
    "first term can be treated as constant so we get  \n",
    "$= constant - \\sum_i \\int_{z_i} p(z_i) \\log q(z_i) d z_i$  \n",
    "$\\implies$ to optimize $d$ w.r.t. $\\{q(z_i)\\}$, can optimize each term separately\n",
    "\n",
    "$\\arg\\min_{q(z_i)} -\\int p(z_i) \\log q(z_i) d z_i + \\lambda (\\int q(z_i) d z_i - 1)$\n",
    "\n",
    "$G = p(z_i) \\log q(z_i)$  \n",
    "$\\partial G_{q(z_i)} = -\\frac{p(z_i)}{q(z_i)} + \\lambda = 0$  \n",
    "$\\implies q(z_i) = \\frac{p(z_i)}{\\lambda} \\propto p(z_i)$\n",
    "\n",
    "then each $q(z_i)$ is just the marginal density of each $z_i$"
   ]
  },
  {
   "cell_type": "markdown",
   "metadata": {},
   "source": [
    "consider $\\min d_{KL}(p || q)$ and the case where $q(z) = h(z) g(\\eta) e^{\\eta^\\top u(z)}$  \n",
    "$q$ is in the exponential family\n",
    "\n",
    "in this case $q(z)$ is obtained by setting $E_{q(z)}[u(z)] = E_{p(z)}[u(z)]$  \n",
    "expected sufficient statistics $u(z)$ of $q(\\cdot)$  \n",
    "expectation is w.r.t. $p$  \n",
    "$E_{q(z)}[u(z)]$ are the mean parameters $u$  \n",
    "$\\eta = \\psi^{-1} (\\mu)$"
   ]
  },
  {
   "cell_type": "markdown",
   "metadata": {},
   "source": [
    "*proof*\n",
    "\n",
    "$d_{KL}(p||q) = E_p[\\log p(\\cdot)] - E_p[\\log q(z)]$  \n",
    "$= constant - E_p[\\log h(z)] - E_p[\\log g(\\eta)] - E_p[\\eta^\\top u(z)]$  \n",
    "$= constant - \\log g(\\eta) - \\eta^\\top E_p[u(z)]$\n",
    "\n",
    "$\\nabla_\\eta g(\\eta) - E_p[u(z)] = 0$  \n",
    "$\\implies E_q[u(z)] - E_p[u(z)] = 0$"
   ]
  },
  {
   "cell_type": "markdown",
   "metadata": {},
   "source": [
    "product and quotient of two gaussians is an (unnormalized) gaussian"
   ]
  },
  {
   "cell_type": "markdown",
   "metadata": {},
   "source": [
    "## ADF\n",
    "\n",
    "$t_i = p(x_i | \\theta)$\n",
    "\n",
    "$p(\\theta | x_1, ..., x_n) = \\propto p_0(\\theta) \\prod p(x_i | \\theta)$\n",
    "\n",
    "$p_1(\\theta) \\propto p_0(\\theta) p(x_1 | \\theta)$  \n",
    "$p_2(\\theta) \\propto p_1(\\theta) p(x_2 | \\theta)$  \n",
    "etc.  \n",
    "$p_N(\\theta) \\propto p_{N-1}(\\theta) p(x_N | \\theta)$  \n",
    "then $p_N(\\theta) \\propto p_B(\\theta | x_1, ..., x_n)$  \n",
    "this is if $X_i$ are iid\n",
    "\n",
    "$q_1(\\theta)$ depends on $q_0(\\theta) t_1(\\theta)$  \n",
    "each $q_i(\\theta)$ depends on $q_{i-1}(\\theta) t_i(\\theta)$\n",
    "\n",
    "exact posterior: $\\hat{p}(\\theta) \\propto q(\\theta) t_i(\\theta) = \\frac{q(\\theta) t_i(\\theta)}{\\int q(\\theta) t_i(\\theta) d\\theta} = \\frac{q(\\theta) t_i(\\theta)}{z_i}$\n",
    "\n",
    "use simple family of distributions for $q$ so that the step can be repeated  \n",
    "$\\implies$ replace $\\hat{p}$ with $q^{new}(\\theta)$\n",
    "\n",
    "(e.g., $\\min d_{KL}(q^{new}(\\theta) || \\hat{p}(\\theta))$ \"streaming variational bayes\")\n",
    "\n",
    "we want $q^{new}(\\theta) = \\arg\\min_{q^*} d_{KL}(\\hat{p}(\\theta) || q^*(\\theta))$ (approximation)\n",
    "\n",
    "first calculate exact $p$ then find approximation $q$"
   ]
  },
  {
   "cell_type": "markdown",
   "metadata": {},
   "source": [
    "first find approx $t_i$: $\\tilde{t}_i(\\theta) = z_i \\frac{q^{new}(\\theta)}{q(\\theta)}$\n",
    "\n",
    "then calculate $q^{new}$ exactly: \n",
    "$\\hat{\\hat{p}} = \\frac{q(\\theta) \\tilde{t}_i(\\theta)}{\\int q(\\theta) \\tilde{t}_i(\\theta) d\\theta} = \\frac{q(\\theta) \\tilde{t}_i(\\theta)}{z_i} = q^{new}(\\theta)$"
   ]
  },
  {
   "cell_type": "markdown",
   "metadata": {},
   "source": [
    "then each $q_i(\\theta)$ depends on $q_{i-1}(\\theta)$ and $\\tilde{t}_i(\\theta)$\n",
    "\n",
    "consider seeing $x_1$ again  \n",
    "want to \"forget\" $t_1(\\theta)$ and its effect on posterior  \n",
    "then calculate new $\\tilde{t}_1(\\theta)$ and new $q^{new}(\\theta)$"
   ]
  },
  {
   "cell_type": "markdown",
   "metadata": {},
   "source": [
    "### setup for EP\n",
    "\n",
    "consider model $p(\\theta) \\prod p(x_i | \\theta)$\n",
    "\n",
    "posterior $p(\\theta | x_1, ..., x_n)$ not calculable\n",
    "\n",
    "EP uses posterior in same exponential family as prior  \n",
    "using $q(\\theta) \\propto p(\\theta) \\prod_i \\tilde{f}_i(\\theta) = \\prod_i \\tilde{f}_i(\\theta)$"
   ]
  },
  {
   "cell_type": "markdown",
   "metadata": {},
   "source": [
    "**e.g.** \n",
    "\n",
    "* prior: $e^{a_0^\\top \\eta}$\n",
    "* $\\tilde{f}_i(x_i | \\eta) \\propto e^{\\eta^\\top u(x_i)}$  \n",
    "$\\implies product = e^{(u_0 + \\sum u(x_i))^\\top \\eta}$\n",
    "\n",
    "**e.g.** \n",
    "\n",
    "* $\\mathcal{N}(\\mu | \\mu_0, \\sigma_0^2) \\prod_i \\frac{1}{z_i} \\mathcal{N}(\\mu | \\mu_i, \\sigma_i^2)$\n",
    "* complete the square\n",
    "\n",
    "in both examples, easy to calculate explicit form of approximate posterior"
   ]
  },
  {
   "cell_type": "markdown",
   "metadata": {},
   "source": [
    "### EP algorithm for ADF\n",
    "\n",
    "1. compute/maintain $q^{old}(\\theta) \\propto \\prod_i \\tilde{f}_i(\\theta)$\n",
    "2. remove one term from old posterior  \n",
    "$q^{-j}(\\theta) \\propto \\prod_{i \\neq j} \\tilde{f}_i(\\theta) = \\frac{q^{old}(\\theta)}{\\tilde{f}_j(\\theta)}$  \n",
    "$f$ are true terms, $\\tilde{f}$ are approximate terms\n",
    "3. calculate $\\hat{p}(\\theta) = z_j^{-1} f_j(\\theta) q^{-j}(\\theta)$  \n",
    "$z_j = \\int f_j(\\theta) q^{-j}(\\theta) d\\theta$\n",
    "4. calculate $q^{new}(\\theta) = \\arg\\min_q d_{KL}(\\hat{p}(\\theta) || q(\\theta))$  \n",
    "perform moment matching\n",
    "    * $E_{\\hat{p}(\\theta)}[u(x)] = E_{q^{new}(\\theta)}[u(x)]$\n",
    "    * need sufficient statistics\n",
    "    * $\\hat{p}$ gives $E[X], E[X^2]$ gives $\\mu$, $\\sigma^2$  \n",
    "    then plug those into $q^{new}(\\theta) = \\mathcal{N}(\\theta | \\mu, \\sigma^2)$\n",
    "5. $\\tilde{f}_j^{new}(\\theta) = z_j \\frac{q^{new}(\\theta)}{q^{-j}(\\theta)}$"
   ]
  },
  {
   "cell_type": "markdown",
   "metadata": {},
   "source": [
    "**e.g.** clutter problem\n",
    "\n",
    "setup\n",
    "\n",
    "* prior: $\\mu \\sim mathcal{N}(0, b)$\n",
    "* $t_i(\\mu) = p(x_i | \\mu) = (1 - w) \\mathcal{N}(x_i | \\mu, 1) + w \\mathcal{N}(x_i | 0, a)$\n",
    "* $a, b, w$ known\n",
    "\n",
    "EP\n",
    "\n",
    "1. $q(\\mu) = \\mathcal{N}(m, v) \\propto \\prod_i f_i(\\mu) = \\prod_i s_i \\mathcal{N}(\\mu | m_i, v_i)$\n",
    "2. $q^{-j}(\\mu) = \\frac{q(\\mu)}{\\tilde{f}_j(\\mu)}$  \n",
    "this is a quotient of two normals  \n",
    "$= \\mathcal{N}(\\mu | m^{(-j)}, v^{(-j)})$\n",
    "    * $\\frac{1}{v^{(-j)}} = \\frac{1}{v} + \\frac{1}{v_j}$\n",
    "    * $m^{(-j)} = m + \\frac{v}{v^{(-j)}} (m - m_j)$\n",
    "3. $\\hat{p}(\\mu) = z_j^{-1} f_j(\\mu) q^{-j}(\\mu)$  \n",
    "$z_j = \\int \\mathcal{N}(\\mu | m^{(-j)}, v^{(-j)}) ((1 - w) \\mathcal{N}(x_i | \\mu, 1) + w \\mathcal{N}(x_i | 0, a)) d\\mu$  \n",
    "$= (1 - w) \\mathcal{N}(x_j | m^{(-j)}, 1 + v^{(-j)}) + w \\mathcal{N}(x_i | 0, a)$ \n",
    "4. $\\int t_i(\\mu) q^{-j}(\\mu) \\begin{bmatrix} \\mu \\\\ \\mu^2 \\end{bmatrix} d \\mu$  \n",
    "$q^{new}(\\mu) = \\mathcal{N}(m^{new}, v^{new})$\n",
    "5. $\\tilde{f}_j^{new}(\\mu) = z_j \\frac{\\mathcal{N}(\\mu | m^{new}, v^{new})}{\\mathcal{N}(\\mu | m^{(-j)}, v^{(-j)}}$ $= z_j \\frac{\\mathcal{N}(\\mu | m_j^{new}, v_j^{new})}{\\mathcal{N}(m^{new} | m^{(-j)}, (v + v^{(-j)}))}$  "
   ]
  },
  {
   "cell_type": "markdown",
   "metadata": {},
   "source": [
    "## inference on a chain"
   ]
  },
  {
   "cell_type": "markdown",
   "metadata": {},
   "source": [
    "**e.g.**"
   ]
  },
  {
   "cell_type": "code",
   "execution_count": 1,
   "metadata": {},
   "outputs": [
    {
     "data": {
      "image/png": "[encoded data removed]",
      "text/plain": [
       "<Figure size 432x288 with 1 Axes>"
      ]
     },
     "metadata": {},
     "output_type": "display_data"
    }
   ],
   "source": [
    "import networkx as nx\n",
    "import pandas as pd\n",
    "\n",
    "chain = nx.DiGraph()\n",
    "chain.add_edge('1', '2')\n",
    "chain.add_edge('2', '3')\n",
    "chain.add_edge('3', '4')\n",
    "chain.add_edge('4', '5')\n",
    "nx.draw_networkx(chain)"
   ]
  },
  {
   "cell_type": "markdown",
   "metadata": {},
   "source": [
    "$P(X_1 = 1) = .7$  \n",
    "$P(X_i = 1 | X_{i=1} = 1) = .9$  \n",
    "$P(X_i = 1 | X_{i-1} + 0) = .3$"
   ]
  },
  {
   "cell_type": "markdown",
   "metadata": {},
   "source": [
    "* $P(X_3)$\n",
    "* $P(X_3 | x_1 = 0)$\n",
    "* $P(X_3 | x_5 = 1)$"
   ]
  },
  {
   "cell_type": "markdown",
   "metadata": {},
   "source": [
    "possible strategy: start by computing full joint probability  \n",
    "but expensive to compute\n",
    "\n",
    "$P(X_3 = 1) = \\sum_{x_1, x_2, x_4, x_5} P(X_1) P(X_2 | x_1) P(X_3 | x_2) P(X_4 | x_3) P(X_5 | x_4)$  \n",
    "$ = \\sum_{x_1, x_2, x_4} P(X_1) P(X_2 | x_1) P(X_3 | x_2) P(X_4 | x_3) \\sum_{x_5} P(X_5 | x_4)$  \n",
    "the last term is just 1  \n",
    "same thing for $x_4$  \n",
    "then we are left with  \n",
    "$= \\sum_{x_2} P(X_3 | x_2) \\sum_{x_1} P(X_1) P(X_2 | x_1)$  \n",
    "the last term is $P(X_2 = 1) = (.3) (.3) + (.7) (.9) = .72$  \n",
    "and $P(X_2 = 0) = .28$  \n",
    "$P(X_2) = \\begin{bmatrix} .28 \\\\ .72 \\end{bmatrix}$\n",
    "\n",
    "$P(X_3) = \\sum_{x_2} P(X_3 | x_2) f(x_2)$  \n",
    "$P(X_3 = 1) = (.28) (.3) + (.72) (.9) = .732$  \n",
    "$P(X_3 = 0) = .268$"
   ]
  },
  {
   "cell_type": "markdown",
   "metadata": {},
   "source": [
    "$P(X_3 | x_1 = 0)$  \n",
    "$= P(X_2 | x_1 = 0) P(X_3 | x_2)$  \n",
    "\n",
    "Then $P(X_3 = 1 | x_1 = 0) = (.7) (.3) + (.3) (.9) = .48"
   ]
  },
  {
   "cell_type": "markdown",
   "metadata": {},
   "source": [
    "$P(X_3 | x_5 = 1)$  \n",
    "$= \\frac{P(X_3 = 1, X_5 = 1)}{P(X_5 = 1)} \\propto P(X_3 = 1, X_5 = 1)$\n",
    "$= \\sum_{x_1, x_2, x_4} P(X_1) P(X_2 | x_1) P(X_3 | x_2) P(X_4 | x_3) P(X_5 = 1 | x_4)$\n",
    "\n",
    "$P(X_5 = 1 | x_4) = \\begin{bmatrix} .3 \\\\ .9 \\end{bmatrix}$  \n",
    "\n",
    "Then the above becomes  \n",
    "$= \\sum_{x_1, x_2} P(X_1) P(X_2 | x_1) P(X_3 | x_2) \\sum_{x_4} P(X_4 | x_3) \\begin{bmatrix} .3 \\\\ .9 \\end{bmatrix}$\n",
    "\n",
    "The last sum becomes $P(X_4 | x_3 = 0) = (.7) (.3) + (.3) (.9) = .48$ and $P(X_4 | x_3 = 1) = (.1) (.3) + (.3)(.9) = .84$\n",
    "\n",
    "Then the above becomes  \n",
    "$= \\sum_{x_1, x_2} P(X_1) P(X_2 | x_1) P(X_3 | x_2) \\begin{bmatrix} .48 \\\\ .84 \\end{bmatrix}$  \n",
    "$= \\sum_{x_2} P(X_3 | x_2) \\begin{bmatrix} .48 \\\\ .84 \\end{bmatrix} \\sum_{x_1} P(X_1) P(X_2 | x_1)$  \n",
    "$= \\sum_{x_2} P(X_3 | x_2) \\begin{bmatrix} .48 \\\\ .84 \\end{bmatrix} \\begin{bmatrix} .28 \\\\ .72 \\end{bmatrix}$  \n",
    "$= \\begin{bmatrix} .48 \\\\ .84 \\end{bmatrix} \\sum_{x_2} P(X_3 | x_2) \\begin{bmatrix} .28 \\\\ .72 \\end{bmatrix}$  \n",
    "\n",
    "the last term is  \n",
    "$P(X_3 = 0 | x_2) = (.28) (.7) + (.72) (.1) = .268$  \n",
    "$P(X_3 = 1 | x_2) = .732$\n",
    "\n",
    "Then we get  \n",
    "$= \\begin{bmatrix} .12864 \\\\ .61478 \\end{bmatrix}$\n",
    "\n",
    "Then we normalize the two"
   ]
  },
  {
   "cell_type": "markdown",
   "metadata": {},
   "source": [
    "## variable elimination algorithm"
   ]
  },
  {
   "cell_type": "markdown",
   "metadata": {},
   "source": [
    "**e.g.**"
   ]
  },
  {
   "cell_type": "code",
   "execution_count": 11,
   "metadata": {},
   "outputs": [
    {
     "data": {
      "image/png": "[encoded data removed]",
      "text/plain": [
       "<Figure size 432x288 with 1 Axes>"
      ]
     },
     "metadata": {},
     "output_type": "display_data"
    }
   ],
   "source": [
    "g = nx.DiGraph()\n",
    "g.add_edge('1', '4')\n",
    "g.add_edge('2', '4')\n",
    "g.add_edge('3', '4')\n",
    "g.add_edge('4', '5')\n",
    "g.add_edge('10', '5')\n",
    "g.add_edge('5', '6')\n",
    "g.add_edge('5', '7')\n",
    "g.add_edge('5', '8')\n",
    "g.add_edge('9', '8')\n",
    "\n",
    "nx.draw_networkx(g, pos = nx.spring_layout(g))"
   ]
  },
  {
   "cell_type": "markdown",
   "metadata": {},
   "source": [
    "$P(X_5 | x_1 = 1, x_6 = 1)$"
   ]
  },
  {
   "cell_type": "markdown",
   "metadata": {},
   "source": [
    "**algorithm**\n",
    "\n",
    "* perform sums in a strategic manner so that intermediate computations and \"messages\" are inexpensive\n",
    "    * any order of summing out the variables is correct, but some are more efficient\n",
    "* for poly-trees, work from fringes toward center (node of interest)\n",
    "    * conditionals on $X_7, X_8, X_9$ just sum to 1\n",
    "    * $\\sum_{x_2, x_3} P(X_2) P(X_3) P(X_4 | x_2, x_3) = f_1(x_4)$\n",
    "    * $P(X_6 = 1 | x_5) = f_2(x_5)$\n",
    "    * $P(X_5) = \\sum_{x_{10}, x_4} f_1(x_4) P(X_{10}) f_2(x_5) P(X_5 | x_4, x_{10})$  \n",
    "        * if we start by $\\sum_{x_4}$ before anything else, we get $P(X_4 | x_2, x_3, x_1 = 1) P(X_5 | x_4, x_{10}) = f^*(x_2, x_3, x_5, x_{10})$"
   ]
  },
  {
   "cell_type": "markdown",
   "metadata": {},
   "source": [
    "## markov random fields and factor graphs\n",
    "\n",
    "**def** markov random field\n",
    "\n",
    "* MRF given by undirected (hyper)graph  \n",
    "$p(x) \\propto \\prod_i f_i(c_i)$  \n",
    "$c_i$ is a subset of nodes (clique)  \n",
    "$p(x) \\frac{1}{z} \\prod_i f_i(c_i)$  \n",
    "$z = \\sum_{x_i} \\prod_i f_i(c_i)$\n",
    "\n",
    "* BN can easily be translated into MRF"
   ]
  },
  {
   "cell_type": "markdown",
   "metadata": {},
   "source": [
    "**def** factor graph\n",
    "\n",
    "* two nodes\n",
    "    * random variable nodes\n",
    "    * factor nodes\n",
    "* e.g., $f_1(x_1) f_2(x_1, x_2) f_3(x_1, x_3) f_4(x_2, x_3, x_4)$"
   ]
  },
  {
   "cell_type": "markdown",
   "metadata": {},
   "source": [
    "### belief propagation algorithm\n",
    "\n",
    "first construct algorithm assuming factor graphs are trees  \n",
    "then discuss applicability to general graphs\n",
    "\n",
    "$p(\\text{all variables}) = \\prod_{s \\text{ s.t. } x \\in s} F_{s \\setminus x}$\n",
    "\n",
    "$p(x) = \\sum_{\\text{all variables not } x} p(\\text{all variables}) = \\sum \\prod_s F_{s \\setminus x}$\n",
    "\n",
    "if there are observed variables, then plug in values and create smaller factor graph\n",
    "\n",
    "$p(x) = \\sum \\prod_s F_{s \\setminus x} = \\prod_s \\sum_{x_i \\in F_{s \\setminus x}} F_{s \\setminus x}$\n",
    "\n",
    "$= \\prod_s \\mu_{f_s \\to x}$"
   ]
  },
  {
   "cell_type": "markdown",
   "metadata": {},
   "source": [
    "$\\mu_{f_s \\to x}(x) = \\sum_{x_i \\in F_{s \\setminus x}} F_{s \\setminus x} = \\sum_{x_i} f_s(x, x_{l_1}, ..., x_{l_k}) \\prod_j G_{x_{l_j} \\setminus s}$  \n",
    "$= \\sum_{x_{l_j} \\in s} f_s(x, x_{l_1}, ..., x_{l_k}) \\prod_j \\sum_{x_i \\in G_{x_{l_j}} \\setminus s} G_{x_{l_j} \\setminus s}$\n",
    "\n",
    "$\\mu_{x_{l_j} \\to s} = \\sum_{x_i \\in G_{x_{l_j} \\setminus s} G_{x_{l_j}} \\setminus s} G_{x_{l_j} \\setminus s}$\n",
    "\n",
    "then the above becomes  \n",
    "$= \\sum_{x_{l_j} \\in s} f_s(x, x_{l_1}, ..., x_{l_k}) \\prod_j \\mu_{x_{l_j} \\to s}(x_{l_j})$"
   ]
  },
  {
   "cell_type": "markdown",
   "metadata": {},
   "source": [
    "$\\mu_{x_{l_j} \\to s} = \\sum_{x_i \\in G_{x_{l_j} \\setminus s}} G_{x_{l_j} \\setminus s}$\n",
    "$= \\sum \\prod_{h \\text{ neighbor of } x_{l_j} \\setminus s} F_{h \\setminus x_{l_j}}$  \n",
    "$= \\prod_{h \\cdots} \\sum_{z \\text{ variables in } F_{h \\setminus x_{l_j}}} F_{h \\setminus x_{l_j}}$\n",
    "$= \\prod_h \\mu_{h \\to x_{l_j}} (x_{l_j})$"
   ]
  },
  {
   "cell_type": "markdown",
   "metadata": {},
   "source": [
    "... recursion\n",
    "\n",
    "base of recursion\n",
    "\n",
    "* factor with one variable: $f(x_i)$, send $f(x_i)$ to $x_i$ $\\begin{bmatrix} p(0) \\\\ p(1) \\end{bmatrix}$\n",
    "* variable with only one factor: sends \"no information\" $\\begin{bmatrix} 1 \\\\ 1 \\end{bmatrix}$  \n",
    "binary variable: message has two values\n",
    "* $\\mu_{f_s \\to x} = \\sum_{\\text{variables of } f_s \\text{ other than x}} f_s(x, ...) \\prod_j \\mu_{x_{l_j} \\to s}(x_{l_j})$\n",
    "* $\\mu_{x_{l_j} \\to s} (x_{l_j}) \\prod_{h \\text{ neighbors except } s} \\mu_{h \\to x_{l_j}}(x_{l_j})$"
   ]
  },
  {
   "cell_type": "markdown",
   "metadata": {},
   "source": [
    "**e.g.**"
   ]
  },
  {
   "cell_type": "code",
   "execution_count": 20,
   "metadata": {},
   "outputs": [
    {
     "data": {
      "image/png": "[encoded data removed]",
      "text/plain": [
       "<Figure size 432x288 with 1 Axes>"
      ]
     },
     "metadata": {},
     "output_type": "display_data"
    }
   ],
   "source": [
    "g = nx.DiGraph()\n",
    "g.add_edge('1', '3')\n",
    "g.add_edge('2', '3')\n",
    "g.add_edge('3', '4')\n",
    "g.add_edge('3', '5')\n",
    "nx.draw_networkx(g, pos=nx.spring_layout(g))"
   ]
  },
  {
   "cell_type": "markdown",
   "metadata": {},
   "source": [
    "$P(X_1 = 1) = .7$  \n",
    "$P(X_2 = 1) = .4$  \n",
    "$P(X_3 = 1 | x_1 = x_2) = .9$  \n",
    "$P(X_3 = 1 | x_1 \\neq x_2) = .2$  \n",
    "$P(X_4 = 1 | x_3 = 1) = .7$  \n",
    "$P(X_4 = 1 | x_3 = 0) = .5$  \n",
    "$P(X_5 = 1 | x_3 = 1) = .2$  \n",
    "$P(X_5 = 1 | x_3 = 0) = .8$"
   ]
  },
  {
   "cell_type": "markdown",
   "metadata": {},
   "source": [
    "want: $P(X_1 | x_5 = 1)$"
   ]
  },
  {
   "cell_type": "markdown",
   "metadata": {},
   "source": [
    "![](bp-example.png)"
   ]
  },
  {
   "cell_type": "markdown",
   "metadata": {},
   "source": [
    "![](bp-example-2.png)"
   ]
  },
  {
   "cell_type": "markdown",
   "metadata": {},
   "source": [
    "### inference on graphs with loops\n",
    "\n",
    "* use variable elimination with a well chosen ordering\n",
    "* join random variables into \"mega random variables\" so that underlying graph is a tree\n",
    "* jointree: build tree structure which preserves correct result\n",
    "\n",
    "* approximation\n",
    "    * belief propagation: need to \"allow nodes to send messages\"  \n",
    "    standard trick: initialize all messages to be non-informative  \n",
    "    pick any ordering for messages  \n",
    "    repeat until convergence (or stopping criterion)"
   ]
  }
 ],
 "metadata": {
  "kernelspec": {
   "display_name": "Python 3",
   "language": "python",
   "name": "python3"
  },
  "language_info": {
   "codemirror_mode": {
    "name": "ipython",
    "version": 3
   },
   "file_extension": ".py",
   "mimetype": "text/x-python",
   "name": "python",
   "nbconvert_exporter": "python",
   "pygments_lexer": "ipython3",
   "version": "3.8.5"
  }
 },
 "nbformat": 4,
 "nbformat_minor": 4
}
