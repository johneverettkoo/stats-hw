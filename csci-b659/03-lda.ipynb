{
 "cells": [
  {
   "cell_type": "markdown",
   "metadata": {},
   "source": [
    "# Latent Dirichlet Allocation\n",
    "\n",
    "**def** dirichlet distribution\n",
    "\n",
    "$\\mu = \\begin{bmatrix} \\mu_1 \\\\ \\vdots \\\\ \\mu_k \\end{bmatrix}$  \n",
    "$\\sum_i \\mu_i = 1$  \n",
    "$\\alpha \\in \\mathbb{R}^k$, $\\alpha_0 = \\sum_i \\alpha_i$  \n",
    "then $\\mu \\sim Dirichlet(\\alpha)$ iff $ p(\\mu) = \\frac{\\Gamma(\\alpha_0)}{\\prod \\gamma(\\alpha_i)} \\prod \\mu_i^{\\alpha_i - 1}$\n",
    "\n",
    "\n",
    "**def** discrete distribution\n",
    "\n",
    "$P(x \\mid \\mu) = \\prod_i^k \\mu_i^{x_i}$\n",
    "\n",
    "**def** LDA generative model\n",
    "\n",
    "for each $d$, draw $\\theta_{k | d} \\sim Dirichlet(\\theta_d \\mid \\alpha)$  \n",
    "for each $k$, draw $\\phi_{i | k} \\sim Dirichlet(\\phi_k \\mid \\beta)$  \n",
    "for each $d$, for each location $j$ in $d$, draw"
   ]
  },
  {
   "cell_type": "markdown",
   "metadata": {},
   "source": [
    "## Variational inference for LDA\n",
    "\n",
    "**notation**\n",
    "\n",
    "* $d$ : document\n",
    "* $i$ : location index\n",
    "* $v$ : index to vocabulary (words)\n",
    "* $k$ : topic\n",
    "* $\\theta_d$ : topic distribution of document $d$\n",
    "    * $\\theta_{k | d}$\n",
    "* $\\phi_k$ : word distribution of topic $k$\n",
    "    * $\\phi_{v | k}$\n",
    "* $z_{d_i}$ : hidden topic of document $d$ at location $d_i$\n",
    "    * $z_{d_i, k} = 1 \\iff$ location $i$ in document $d$ has topic $k$\n",
    "* $w_{d_i}$ : word at location $d, i$\n",
    "    * $w_{d_i, v} = 1 \\iff w_{d_i} = v$"
   ]
  },
  {
   "cell_type": "markdown",
   "metadata": {},
   "source": [
    "$L = (\\prod_d p(\\theta_d | \\alpha)) \\times (\\prod_k p(\\phi_k | \\beta)) \\times (\\prod_d \\prod_i p(z_{d_i} | \\theta_d)) \\times (\\prod_d \\prod_i p(w_{d_i} | z_{d_i}, \\{\\phi\\}))$  \n",
    "dirichlet prior for $\\theta$ times dirichlet prior for $\\phi$ times discrete distribution for $z$ times discrete distribution for $w$"
   ]
  },
  {
   "cell_type": "markdown",
   "metadata": {},
   "source": [
    "$= (\\prod_d \\frac{\\Gamma(\\alpha_0)}{\\prod_k \\Gamma(\\alpha_k)} \\prod_k \\theta_{k|d}^{\\alpha_k - 1}) \\times\n",
    "(\\prod_k \\frac{\\Gamma(\\beta_0)}{\\prod_v \\Gamma(\\beta_v)} \\prod_v \\phi_{v|k}^{\\beta_v - 1}) \\times\n",
    "(\\prod_d \\prod_i \\prod_k \\theta_{k|d}^{z_{d_i, k}}) \\times\n",
    "(\\prod_d \\prod_i \\prod_k (\\prod_v \\phi_{v|k}^{w_{d_i, v}})^{z_{d_i}, k})$"
   ]
  },
  {
   "cell_type": "markdown",
   "metadata": {},
   "source": [
    "$\\log L = (\\sum_d(\\log \\Gamma(\\alpha_0) - \\sum_k \\log \\Gamma(\\alpha_k) + \\sum_k \\alpha_k - 1) \\log \\theta_{k|d})) + \n",
    "(\\sum_k (\\log \\Gamma(\\beta_0) - \\sum_v \\log \\Gamma(\\beta_v) + \\sum_v (\\beta_v - 1) \\log \\phi_{v|k}) + \n",
    "\\sum_d \\sum_i \\sum_k z_{d_i, k} \\log \\theta_{k|d} + \n",
    "\\sum_d \\sum_i \\sum_k \\sum_v w_{d_i, v} z_{d_i, k} \\phi_{v|k}$"
   ]
  },
  {
   "cell_type": "markdown",
   "metadata": {},
   "source": [
    "now that we have the log likelihood, we can fit this to the mean field approach (assuming selective independence/factorization)\n",
    "\n",
    "$q(\\{\\theta_d\\}, \\{\\phi_k\\}, \\{z_{d_i}\\})$  \n",
    "$= (\\prod_d q(\\phi_d | \\lambda_d)) (\\prod_k q(\\phi_k | \\mu_k)) (\\prod_d \\prod_i q(z_{d_i} | t_{d_i}))$\n",
    "\n",
    "let $q(z_{d_i}) = \\prod_k t_{d_i, k}^{z_{d_i}, k}$ where $\\sum t_{d_i, k} = 1$\n",
    "\n",
    "$ELBO =  E_{q(\\theta, \\phi, z)}[\\log \\frac{p(\\theta, \\phi, z, w)}{q(\\theta, \\phi, z)}]$\n",
    "\n",
    "* approach 1: evaluate ELBO and optimize for $q(\\cdot)$\n",
    "* approach 2: use generic solution  \n",
    "$h_i$ is one hidden variable  \n",
    "$g(h_i) = E_{q(\\text{all except } h_i)}[\\log L]$  \n",
    "$q(h_i) \\propto e^{g(h_i)}$"
   ]
  },
  {
   "cell_type": "markdown",
   "metadata": {},
   "source": [
    "we can note $E_{q(\\cdot)} [z_{d_i, k}] = t_{d_i, k}$\n",
    "\n",
    "E-step for $q(\\theta_d | \\lambda_d)$\n",
    "\n",
    "* $g(\\theta_d) = E_{q(-\\theta_d)}[\\sum_k (\\alpha_k - 1) \\log \\theta_{k|d} + \\sum_i \\sum_k z_{d_i, k} \\log \\theta_{k|d}]$  \n",
    "$= \\sum_k \\log \\theta_{k|d} (\\alpha_k + \\sum_i t_{d_i, k} - 1)$  \n",
    "then $q(\\theta_d) \\propto \\prod_k \\theta_{k|d}^{\\alpha_k \\sum_i t_{d_i, k} - 1}$  \n",
    "$\\implies q(\\theta_d) = Dirichlet(\\theta_d | \\lambda_{k|d})$  \n",
    "$\\lambda_{k|d} = \\alpha_k \\sum_i t_{d_i, k}$\n",
    "\n",
    "E-step for $\\phi_k$\n",
    "\n",
    "* $g(\\phi_k) = E_{q(-\\phi_k)}[\\sum_v (\\beta_v - 1) \\log \\phi_{v|k} + \\sum_d \\sum_i \\sum_v z_{d_i, k} w_{d_i, v} \\log \\phi_{v|k}$  \n",
    "$= \\sum_v \\log \\phi_{v|k} (\\beta_v + \\sum_d \\sum_i t_{d_i, k} w_{d_i, v} - 1)$  \n",
    "$\\implies q(\\phi_k) = Dirichlet(\\phi_k | \\mu_{v|k})$  \n",
    "where $\\mu_{v|k} = \\beta_v + \\sum_d \\sum_i t_{d_i, k} w_{d_i, v}$\n",
    "\n",
    "E-step for $z_d$\n",
    "\n",
    "* first consider $E[\\log \\theta_k]$ for $\\theta \\sim Dirichlet(\\alpha)$\n",
    "* note that for exponential family $p(x | \\eta) = h(x) g(\\eta) e^{\\eta^\\top v(x)}$ and $E[v(x)] = -\\partial_\\eta \\log g(\\eta)$\n",
    "* then $\\eta_k = \\alpha_k - 1$ and $v_k(x) = \\log \\theta_k$\n",
    "* then $E[\\log \\theta_k] = -\\partial_{\\alpha_k} (\\log \\Gamma(\\sum_k \\alpha_k) - \\sum_k \\log \\Gamma(\\alpha_k))$ \n",
    "$= \\psi(\\alpha_k) - \\psi(\\alpha_0)$\n",
    "* $\\psi(x) = \\partial_x \\log \\Gamma(x)$\n",
    "* getting back to the E-step for $z$ ...  \n",
    "$g(z_{d_i}) = E_{q(-z_{d_i})}[\\sum_k z_{d_i, k} \\log \\theta_{k|d} + \\sum_k \\sum_v z_{d_i, k} w_{d_i, k} \\log \\phi_{v|k}]$  \n",
    "$= \\sum_k z_{d_i, k} (\\psi(\\lambda_{k|d}) - \\psi(\\lambda_{0|d}) + \\sum_v w_{d_i, v}(\\psi(\\mu_{v|k}) - \\psi(\\mu_{0|k})))$\n",
    "* then $q(z_d{i}) \\propto \\prod_k (e^{(\\cdots)})^{z_{d_i, k}}$\n",
    "* then $t_{d_i, k} \\propto e^{(\\cdots)}$\n",
    "* where $(\\cdots) = \\psi(\\lambda_{k|d}) - \\psi(\\lambda_{0|d}) + \\psi(\\mu_{d_i|k}) - \\psi(\\mu_{0|k})$"
   ]
  },
  {
   "cell_type": "markdown",
   "metadata": {},
   "source": [
    "M-step\n",
    "\n",
    "* "
   ]
  },
  {
   "cell_type": "code",
   "execution_count": null,
   "metadata": {},
   "outputs": [],
   "source": []
  }
 ],
 "metadata": {
  "kernelspec": {
   "display_name": "Python 3",
   "language": "python",
   "name": "python3"
  },
  "language_info": {
   "codemirror_mode": {
    "name": "ipython",
    "version": 3
   },
   "file_extension": ".py",
   "mimetype": "text/x-python",
   "name": "python",
   "nbconvert_exporter": "python",
   "pygments_lexer": "ipython3",
   "version": "3.8.5"
  }
 },
 "nbformat": 4,
 "nbformat_minor": 4
}
