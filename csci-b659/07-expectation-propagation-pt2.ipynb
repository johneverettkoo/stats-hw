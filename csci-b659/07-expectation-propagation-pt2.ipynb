{
 "cells": [
  {
   "cell_type": "markdown",
   "metadata": {},
   "source": [
    "recall\n",
    "\n",
    "* when $q(z) = \\prod_i q_i(z_i)$ is factorized, then the minimizer of $d_{KL}(p || q)$ is $E_q[U(Z)] = E_p[U(Z)]$\n",
    "* optimization criterion (e.g., calculating the marginals) is hard"
   ]
  },
  {
   "cell_type": "markdown",
   "metadata": {},
   "source": [
    "## gaussian process\n",
    "\n",
    "$f \\sim GP(m(\\cdot), K(\\cdot, \\cdot))$  \n",
    "$f \\sim \\mathcal{N}(m(x), K(x, x^\\top))$\n",
    "\n",
    "$x = (x_1, ..., x_N)$  \n",
    "$f = (f(x_1), ..., f(x_N))$\n",
    "\n",
    "typically don't observe $f$ (the function itself) but $t$ which depend on $f$\n",
    "\n",
    "regression case\n",
    "\n",
    "* $p(t_i | f_i) = \\mathcal{N}(f_i, \\beta^{-1})$\n",
    "* assume $m = 0$, C_N = K(x, x^\\top) + \\beta^{-1} I$\n",
    "* $ t \\sim \\mathcal{N}(0, C_N)$\n",
    "\n",
    "classification\n",
    "\n",
    "* $p(t_i | f_i) = Bernoulli(\\sigma(f_i))$ (logistic regression) or  \n",
    "$p(t_i | f_i) = \\sigma(t_i f_i)$ or  \n",
    "$p(t_i | f_i) = \\Phi(t_i f_i)$ (probit regression)"
   ]
  },
  {
   "cell_type": "markdown",
   "metadata": {},
   "source": [
    "#### setup for EP\n",
    "\n",
    "* consider true posterior $\\propto p(\\theta) \\prod p(x_i | \\theta)$\n",
    "\n",
    "* adjust posterior to $q(\\theta) \\propto \\prod_{i=0}^N \\tilde{f}_i(\\theta)$\n",
    "\n",
    "* can't minimize KL-divergence directly\n",
    "* EP instead iteratively improves $\\tilde{f}_i$\n",
    "* not guaranteed to actually minimize KL-divergence\n",
    "* no convergence guarantee"
   ]
  },
  {
   "cell_type": "markdown",
   "metadata": {},
   "source": [
    "### EP for GP classification\n",
    "\n",
    "$p(f, t) = p(f) p(t | f) = \\mathcal{N}(f | 0, K) \\prod_i p(t_i | f_i)$\n",
    "\n",
    "$q(f) \\propto p(f) \\prod_i \\tilde{g}_i(f_i)$\n",
    "\n",
    "$\\tilde{g}_i(f_i) = z_i \\mathcal{N}(f_i | \\tilde{\\mu}_i, \\tilde{s}_i)$\n",
    "\n",
    "1. $\\prod \\tilde{g}_i (f_i) \\propto \\mathcal{N}(f | \\tilde{\\mu}, \\tilde{\\Sigma})$  \n",
    "$\\tilde{\\mu} = \\begin{bmatrix} \\tilde{\\mu}_1 & \\cdots & \\tilde{\\mu}_N \\end{bmatrix}^\\top$  \n",
    "$\\tilde{\\Sigma} = diag(\\tilde{s}_i)$  \n",
    "$q(f) \\sim \\mathcal{\\mu, \\Sigma})$  \n",
    "$\\Sigma = (K^{-1} \\tilde{S}^{-1})^{-1}$  \n",
    "$\\mu = \\Sigma \\tilde{s}^{-1} \\tilde{\\mu}$\n",
    "\n",
    "2. $q^{(-j)}(\\theta) = \\frac{q^{(old)}(\\theta)}{f_j(\\theta)}$ which is a multivariate normal of $(f_1, ..., f_N)$ divided by univariate normal of $f_j$  \n",
    "so we get $q^{(old)}(f) = q^{(old)}(f_j) q^{(old)}(f^{(-j)} | f_j)$  \n",
    "and $q^{(-j)}(\\theta) = \\frac{q^{(old)}(f^{(-j)} | f_j) q^{(old)}(f_j)}{\\tilde{g}_j(f_j)}$  \n",
    "so all we need is 1D division  \n",
    "$q^{(old)}(f) = \\mathcal{N}(f | \\mu, \\Sigma)$  \n",
    "then $q^{(old)}(f_j) = \\mathcal{N}(\\mu_j, \\Sigma_{jj})$  \n",
    "$q^{(-j)}(f) \\propto q^{(old)}(f^{(-j)} | f_j) \\frac{\\mathcal{N}(f_j | \\mu_j, \\Sigma_{jj})}{\\mathcal{N}(f_j | \\tilde{\\mu}_j, \\tilde{s}_j)}$  \n",
    "so $q^{(-j)}(f_j) = \\mathcal{N}(f_j | \\mu^{(-j)}, s^{(-j)})$\n",
    "    * $s^{(-j)} = (\\Sigma_{jj}^{-1} - \\tilde{s}_j^{-1})^{-1}$\n",
    "    * $\\mu^{(-j)} = s^{(-j)} (\\mu_j / \\Sigma_{jj} - \\tilde{\\mu}_j / \\tilde{s}_j)$\n",
    "\n",
    "3. $\\hat{p}(\\theta) = z_j^{-1} f_j(\\theta) q^{(-j)}(\\theta)$  \n",
    "$z_j = \\int q^{(-j)}(f) p(t_j | f_j) df = \\int q^{(-j)}(f_j) p(t_j | f_j) d f_j$  \n",
    "can calculate this sometimes (e.g., logistic regression), or if not, use sampling\n",
    "\n",
    "4. $q^{(new)}(\\theta) = \\arg\\min d_{KL}(\\hat{p}(\\theta) || q^{(new)}(\\theta))$  \n",
    "perform moment matching $E_{\\hat{p}}[f_j] = E_{q^{(new)}}[f_j]$ and $E_{\\hat{p}}[f_j^2] = E_{q^{(new)}}[f_j^2]$  \n",
    "$q^{(new)}(f_j) = \\mathcal{N}(f_j | \\hat{\\mu}_j, \\hat{s}_j)$  \n",
    "$q^{(new)}(f) = q^{(-j)}(f^{(-j)} | f_j) q^{(new)}(f_j)$\n",
    "\n",
    "5. $\\tilde{f}_j^{(new)} = z_j \\frac{q^{(new)}(\\theta)}{q^{(-j)}(\\theta)}$  \n",
    "$\\tilde{g}_j^{(new)}(f_j) = z_j \\frac{q^{(new)}(f_j)}{q^{(-j)}(f_j)}$  \n",
    "$= \\frac{z_j}{A} \\mathcal{N}(f_j | \\tilde{\\mu}_j^{(new)}, \\tilde{s}_j^{(new)})$\n",
    "    * $\\tilde{s}_j^{(new)} = (\\hat{s}_j^{-1} - (s^{(-j)})^{-1})^{-1}$\n",
    "    * $\\tilde{\\mu}_j^{(new)} = \\tilde{s}_j^{(new)} (\\hat{\\mu}_j / \\hat{s}_j - \\mu^{(-j)} / s^{(-j)})$\n",
    "    * $A = \\mathcal{N}(\\hat{\\mu}_j | \\mu^{(-j)}, \\hat{s}_j + s^{(-j)})$\n",
    "\n",
    "for step 1 of next iteration, need explicit form of $q^{(new)}(f)$  \n",
    "just calculate by $\\propto \\prod \\tilde{g}_j(f_j) p(f)$"
   ]
  },
  {
   "cell_type": "markdown",
   "metadata": {},
   "source": [
    "### EP for factor graphs"
   ]
  },
  {
   "cell_type": "markdown",
   "metadata": {},
   "source": [
    "brief reminder/example of BP messages\n",
    "\n",
    "![](loopy-graph.png)\n",
    "\n",
    "want to find $\\mu_{f_b \\to x_1}(x_1)$  \n",
    "$= \\sum_{x_2, x_3} f_b(x_1, x_2, x_3) \\mu_{x_3 \\to f_b}(x_3) \\mu_{x_2 \\to f_b}(x_2)$"
   ]
  },
  {
   "cell_type": "markdown",
   "metadata": {},
   "source": [
    "$\\mu_{x_3 \\to f_b}(x_3) = \\mu_{f_c \\to x_3}(x_3)$\n",
    "\n",
    "$\\mu_{x_2 \\to f_b}(x_2) = \\mu_{f_c \\to x_2}(x_2) \\times \\mu_{f_a \\to x_2}(x_2)$"
   ]
  },
  {
   "cell_type": "markdown",
   "metadata": {},
   "source": [
    "then $\\mu_{f_b \\to x_1} (x_1) = \\sum_{x_2, x_3} f_b(x_1, x_2, x_3) \n",
    "\\times \\mu_{f_c \\to x_3}(x_3) \n",
    "\\times (\\mu_{f_b \\to x_2}(x_2) \\times \\mu_{f_a \\to x_2}(x_2))$"
   ]
  },
  {
   "cell_type": "markdown",
   "metadata": {},
   "source": [
    "factor graph: $p(\\theta) \\propto \\prod_i f_i (c_i)$\n",
    "\n",
    "(clutter problem: $\\prod f(\\text{all } \\theta)$)\n",
    "\n",
    "(GP: $prior(\\text{all } \\theta) \\prod f_i (\\theta_i)$)\n",
    "\n",
    "EP posterior: $q(\\theta) \\propto \\prod_i \\tilde{f}_i (c_i)$ \n",
    "\n",
    "in this example, use factored representation:  \n",
    "$q(\\theta) = \\prod_k q(\\theta_k)$\n",
    "\n",
    "then $q(\\theta) \\propto \\prod_i \\prod_{k \\in c_i} \\tilde{f}_{ik} (\\theta_k)$"
   ]
  },
  {
   "cell_type": "markdown",
   "metadata": {},
   "source": [
    "$f_a(x_1, x_2, x_4) f_b(x_1, x_2, x_3) f_c(x_2, x_3) \\approx \\tilde{f}_{a1}(x_1) \\tilde{f}_{a2}(x_2) \\tilde{f}_{a4}(x_4) \\tilde{f}_{b1}(x_1) \\tilde{f}_{b2}(x_2) \\tilde{f}_{b3}(x_3) \\tilde{f}_{c2}(x_2) \\tilde{f}_{c3}(x_3)$"
   ]
  },
  {
   "cell_type": "markdown",
   "metadata": {},
   "source": [
    "1. calculate $q(\\theta) = \\prod \\tilde{f}_i(\\theta)$  \n",
    "normally we calculate compact form $f \\sim q(\\theta)$,  \n",
    "but $(*)$ will deal with it later  \n",
    "just use: $q(\\theta) \\propto \\prod_i \\prod_{k \\in c_i} \\tilde{f}_{ik} (\\theta_k)$\n",
    "\n",
    "2. calculate $q^{(-j)}(\\theta)$  \n",
    "do not normalize for now  \n",
    "$(*) = \\prod_{i \\neq j} \\prod_k \\tilde{f}_{ik}(\\theta_k)$  \n",
    "e.g., $q^{(-f_b)} = \\tilde{f}_{a1} \\tilde{f}_{a2} \\tilde{f}_{a4} \\tilde{f}_{c2} \\tilde{f}_{c3}$\n",
    "\n",
    "3. calculate $\\hat{p}(\\theta) \\propto q^{(-j)}(\\theta) f_j(c_j)$  \n",
    "normally calculate $z_j$ and let $\\hat{p}(\\theta) = z_j^{-1} q^{(-j)}(\\theta) f_j (c_j)$  \n",
    "but $(*)$\n",
    "\n",
    "4. calculate $q^{(new)}(\\theta) = \\arg\\min d_{KL}(\\hat{p}(\\theta) || q^{(new)}(\\theta))$  \n",
    "where $q^{(new)}(\\theta) = \\prod_k q^{(new)}(\\theta_k)$  \n",
    "since $q^{(new)}$ is factorized, $q^{(new)}(\\theta_k) = \\hat{p}(\\theta_k)$  \n",
    "$\\implies$ need to calculate $\\hat{p}(\\theta_k)$  \n",
    "    * $\\theta_k \\not\\in c_j$  \n",
    "    given $f_b(x_1, x_2, x_3)$, $x_4 \\in \\{x_1, x_2, x_4\\}$  \n",
    "    $\\hat{p}(\\theta) \\propto \\tilde{f}_{a1} \\tilde{f}_{a2} \\tilde{f}_{a4} \\tilde{f}_{c2} \\tilde{f}_{c3} f_b(x_1, x_2, x_3)$  \n",
    "    $\\hat{p}(\\theta_k) = q^{(-j)}(\\theta_k) = q^{(old)}(\\theta_k)$  \n",
    "    * $\\theta_k \\in c_j$  \n",
    "    let $c_j = \\theta_k, \\theta_{l_1}, ..., \\theta_{l_m}$  \n",
    "    $\\hat{p}(\\theta_k) = \\sum_{\\text{all but } \\theta_k} \\hat{p}(\\theta)$  \n",
    "    $= (\\sum_{\\theta_l \\in c_j} f_j(c_j) \\prod \\hat{f}(\\theta_l)) (\\sum_{\\theta_l \\not\\in c_j} \\prod \\tilde{f}_{\\cdot_l}(\\theta_l))$  \n",
    "    first term: variables in $c_j$, second term: variables not in $c_j$  \n",
    "    second term sums/integrates out to a constant  \n",
    "    * then $\\hat{p}(x_1) \\propto \\tilde{f}_{a1} \\sum_{x_2, x_3} \\tilde{f}_{a2} \\tilde{f}_{c2} \\tilde{f}_{c3} f_b(x_1, x_2, x_3) \\sum_{x4} \\tilde{f}_{a4}$  \n",
    "    the last summation over $x_4$ goes to a constant that we can ignore  \n",
    "    we are left with two parts\n",
    "        * $\\tilde{f}_{a1}$ only depends on $x_1$\n",
    "        * $\\sum_{x_2, x_3} \\cdots$ \n",
    "    * $\\hat{p}(\\theta_k) \\propto \\prod_{x \\neq j, k \\in c_j}\\tilde{f}_{ik}(\\theta_k) \\sum_{\\theta_{l_1}, ..., \\theta_{l_m}} f_j(c_j) \\prod_{l_m} \\prod_{i \\neq j s.t. l_m \\in c_i} \\tilde{f}_{i{l_m}}(\\theta_{l_m})$  \n",
    "    * so $q^{(new)}(\\theta) = \\prod_k q^{(new)}(\\theta_k) \\propto \\prod_k \\hat{p}(\\theta_k)$ of the form above\n",
    "    * no compact/normalized form but $(*)$\n",
    "5. want to calculate $\\tilde{f}_j(c_j) = \\prod_{k \\in c_j} \\tilde{f}_{jk}(\\theta_k)$  \n",
    "typically $\\tilde{f}_j(c_j) = q^{(new)}(\\theta) / q^{(-j)}(\\theta)$  \n",
    "variables not in $c_j$ are not affected or changed  \n",
    "$q^{(-f_b)} = \\tilde{f}_{a1} \\tilde{f}_{a2} \\tilde{f}_{a4} \\tilde{f}_c{2} \\tilde{f}_{c3}$  \n",
    "$q^{(new)}(x_1) \\propto \\tilde{f}_{a1} \\sum_{x_2, x_3} \\tilde{f}_{a2} \\tilde{f}_{c2} \\tilde{f}_{c3} f_b(x_1, x_2, _x3)$  \n",
    "so $q^{(new)} / q^{(-f_b)}$ has stuff canceling out  \n",
    "$\\tilde{f}_{jk}(\\theta_k) \\propto \\sum_{\\theta_{l_1}, ..., \\theta_{l_m}} f_j(c_j) \\prod_{l_m} \\prod_{i \\neq j, l_m \\in c_i} \\hat{f}_{i l_m} (\\theta_{l_m})$  \n",
    "$\\tilde{f}_{jk} = \\mu_{c_j \\to \\theta_k}(\\theta_k)$\n",
    "$\\propto \\sum_{\\theta_1, ..., \\theta_k} f_j(c_j) \\prod_{l_m} \\prod_{i \\neq j, l_m \\in c_i} \\mu_{c_i \\to l_m} (\\theta_{l_m})$  \n",
    "$\\prod_{i \\neq j, l_m \\in c_i} \\mu_{c_i \\to l_m}(\\theta_{l_m})$ is the product of $\\mu_{c_i \\to l_m}$ from all factors except $c_j$ which is equivalent to $\\mu_{l_m \\to c_j}(\\theta_{l_m})$  \n",
    "\n",
    "update equations of sub-factors in EP when using factored $q(\\theta)$ is identical to messages in BP"
   ]
  },
  {
   "cell_type": "markdown",
   "metadata": {},
   "source": []
  }
 ],
 "metadata": {
  "kernelspec": {
   "display_name": "Python 3",
   "language": "python",
   "name": "python3"
  },
  "language_info": {
   "codemirror_mode": {
    "name": "ipython",
    "version": 3
   },
   "file_extension": ".py",
   "mimetype": "text/x-python",
   "name": "python",
   "nbconvert_exporter": "python",
   "pygments_lexer": "ipython3",
   "version": "3.8.5"
  }
 },
 "nbformat": 4,
 "nbformat_minor": 4
}
