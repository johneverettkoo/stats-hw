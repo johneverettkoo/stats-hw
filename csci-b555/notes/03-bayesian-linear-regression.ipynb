{
 "cells": [
  {
   "cell_type": "markdown",
   "metadata": {},
   "source": [
    "# Bayesian Linear Regression"
   ]
  },
  {
   "cell_type": "markdown",
   "metadata": {},
   "source": [
    "recall ordinary least squares regression:\n",
    "\n",
    "* $t_i \\stackrel{iid}{\\sim} \\mathcal{N}(f_i, \\beta^{-1})$\n",
    "* $f_i = w^\\top \\phi(x_i)$"
   ]
  },
  {
   "cell_type": "markdown",
   "metadata": {},
   "source": [
    "suppose we want a prior for $w$\n",
    "\n",
    "* preferably a *conjugate* prior\n",
    "* recall posterior $\\propto$ prior $\\times$ likelihood\n",
    "* then a multivariate normal prior results in a multivariate normal posterior"
   ]
  },
  {
   "cell_type": "markdown",
   "metadata": {},
   "source": [
    "**multivariate normal distribution**\n",
    "\n",
    "let $X \\in \\mathbb{R}^p$\n",
    "\n",
    "$X \\sim MVN(\\mu, \\Sigma)$ iff it has density function  \n",
    "$f(x) = (2 \\pi \\Sigma)^{-p/2} \\exp \\big( -\\frac{1}{2} (x - \\mu)^\\top \\Sigma^{-1} (x - \\mu) \\big)$\n",
    "\n",
    "alternative parameterization using precision $Q = \\Sigma^{-1}$:\n",
    "\n",
    "* $X \\sim MVN(\\mu, Q^{-1})$\n",
    "* $f(x) = \\big( \\frac{Q}{2 \\pi} \\big)^{p/2} \\exp \\big( -\\frac{1}{2} (x - \\mu)^\\top Q (x - \\mu) \\big)$"
   ]
  },
  {
   "cell_type": "markdown",
   "metadata": {},
   "source": []
  }
 ],
 "metadata": {
  "kernelspec": {
   "display_name": "Python 3",
   "language": "python",
   "name": "python3"
  },
  "language_info": {
   "codemirror_mode": {
    "name": "ipython",
    "version": 3
   },
   "file_extension": ".py",
   "mimetype": "text/x-python",
   "name": "python",
   "nbconvert_exporter": "python",
   "pygments_lexer": "ipython3",
   "version": "3.6.3"
  }
 },
 "nbformat": 4,
 "nbformat_minor": 2
}
