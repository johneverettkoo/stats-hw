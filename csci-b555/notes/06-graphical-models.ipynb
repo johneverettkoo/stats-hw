{
 "cells": [
  {
   "cell_type": "markdown",
   "metadata": {},
   "source": [
    "# Graphical models"
   ]
  },
  {
   "cell_type": "markdown",
   "metadata": {},
   "source": [
    "## Bayesian networks\n",
    "\n",
    "directed graphical models detailing how each variable affects another\n",
    "\n",
    "directed acyclic graph (DAG) - no looping paths\n",
    "\n",
    "$P(X_1, ..., X_n) = \\prod_i P(X_i \\mid parents(X_i))$"
   ]
  },
  {
   "cell_type": "markdown",
   "metadata": {},
   "source": [
    "**e.g.** given joint distribution over $X_1, ..., X_n$ as $P(X_1, X_2, ..., X_n)$\n",
    "\n",
    "can write as $P(X_1) P(X_2 | X_1) P(X_3 | X_2, X_1) P(X_4 | X_3, X_2, X_1) \\cdots$\n",
    "\n",
    "but there may not be all direct dependencies (conditional independence)\n",
    "\n",
    "perhaps $X_4$ depends on $X_2$ and $X_3$ but not directly on $X_1$  \n",
    "then even if $X_2$ and $X_3$ depend directly on $X_1$, we can write \n",
    "$P(X_4 | X_3, X_2, X_1) = P(X_4 | X_3, X_2)$"
   ]
  },
  {
   "attachments": {
    "image.png": {
     "image/png": "[encoded data removed]"
    }
   },
   "cell_type": "markdown",
   "metadata": {},
   "source": [
    "**e.g.** bayesian linear regression\n",
    "\n",
    "$t_i$ is generated by $w$, $\\phi(x_i)$, and $\\sigma$ where we observe $t_i$ and $\\phi(x_i)$\n",
    "\n",
    "![image.png](attachment:image.png)"
   ]
  },
  {
   "cell_type": "markdown",
   "metadata": {},
   "source": [
    "**e.g.** generative model\n",
    "\n",
    "$t_i \\sim Discrete(\\{p_j\\}_{j=0}^k)$  \n",
    "$x_i \\mid t_i \\sim \\mathcal{N}(\\mu_{t_i}, \\Sigma_{t_i})$\n",
    "\n",
    "so $x_i$ depend on $t_i, \\mu_j, \\Sigma_j$"
   ]
  },
  {
   "cell_type": "markdown",
   "metadata": {},
   "source": [
    "things we would like to solve\n",
    "\n",
    "* $p(x_k) = \\int_{x_1} \\int_{x_2} \\cdots \\int_{x_{k-1}} \\int_{x_{k+1}} \\cdots \\int_{x_n} p(x_1, ..., x_n) dx_1 \\cdots dx_n$\n",
    "* $p(x_k | x_1 = a, x_2 = b, ...)$\n",
    "* $\\arg\\max_{x_k} p(x_k | x_1 = a, ...)$"
   ]
  },
  {
   "cell_type": "markdown",
   "metadata": {},
   "source": [
    "**def** markov blanket\n",
    "\n",
    "given $children(z)$, $parents(z)$, $parents(children(z))$ observed, $z$ is conditionally independent of all other variables"
   ]
  },
  {
   "cell_type": "markdown",
   "metadata": {},
   "source": [
    "**def** markov random field\n",
    "\n",
    "* given an undirected graph $G = V, E$\n",
    "* for any clique (fully connected subgraph) $C \\subset V$, we can write a potential function  \n",
    "$\\psi_C(C) \\geq 0$  \n",
    "note that $C$ is a set of vertices, e.g., if $|C_k| = 3$, then $C_k = \\{0, 0, 0\\}, \\{0, 0, 1\\}, \\{0, 1, 0\\}$, etc.\n",
    "* then the joint probability  \n",
    "$p(x_1, ..., x_n) = \\frac{1}{Z} \\prod_k \\psi_{C_k} (C_k)$  \n",
    "where $Z = \\sum_{x_1, ..., x_n} \\prod_k \\psi_{C_k} (C_k)$  \n",
    "$x_k \\in \\{0, 1\\}$"
   ]
  },
  {
   "cell_type": "markdown",
   "metadata": {},
   "source": [
    "**def** factor graph\n",
    "\n",
    "two types of nodes\n",
    "\n",
    "* random variables\n",
    "* factors (similar to potential functions)"
   ]
  },
  {
   "cell_type": "markdown",
   "metadata": {},
   "source": [
    "## Inference on networks\n",
    "\n",
    "**e.g.** \n",
    "\n",
    "we wish to know $P(X_5 \\mid X_1 = x_1, X_8 = x_8)$  \n",
    "$= \\sum_{X_2, X_3, X_4, X_6, X_7, X_9, X_{10}} P(X_1 = x_1) P(X_2) P(X_3) P(X_4 | x_1, X_2, X_3) P(X_6) P(X_5 | X_4, X_6) P(X_7 | X_5) P(X_8 = x_8 | X_5) P(X_{10}) P(X_9 | X_5, X_{10})$\n",
    "\n",
    "but we can simplify this first\n",
    "\n",
    "first sum over $X_7$ since it has one parent and no children:  \n",
    "$\\sum \\cdots \\sum_{X_7} P(X_7 | X_5)$  \n",
    "then we note that $\\sum_{X_7} P(X_7 | X_5) = 1$ since it is a probability\n",
    "\n",
    "we can try to remove $X_{10}$ which has no parents but one child $X_9$ (which has parents $X_5, X_{10}$ and no children  \n",
    "then we get  \n",
    "$\\sum \\cdots \\sum_{X_{10}} P(X_{10}) P(X_9 | X_{10}, X_5)$  \n",
    "$= f_{X_{10}}(x_9, x_5)$\n",
    "\n",
    "this is called ***variable elimination***"
   ]
  },
  {
   "cell_type": "code",
   "execution_count": null,
   "metadata": {},
   "outputs": [],
   "source": []
  }
 ],
 "metadata": {
  "kernelspec": {
   "display_name": "Python 3",
   "language": "python",
   "name": "python3"
  },
  "language_info": {
   "codemirror_mode": {
    "name": "ipython",
    "version": 3
   },
   "file_extension": ".py",
   "mimetype": "text/x-python",
   "name": "python",
   "nbconvert_exporter": "python",
   "pygments_lexer": "ipython3",
   "version": "3.6.3"
  }
 },
 "nbformat": 4,
 "nbformat_minor": 2
}
