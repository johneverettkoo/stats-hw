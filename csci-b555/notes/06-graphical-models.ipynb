{
 "cells": [
  {
   "cell_type": "markdown",
   "metadata": {},
   "source": [
    "# Graphical models"
   ]
  },
  {
   "cell_type": "markdown",
   "metadata": {},
   "source": [
    "## Bayesian networks\n",
    "\n",
    "directed graphical models detailing how each variable affects another\n",
    "\n",
    "directed acyclic graph (DAG) - no looping paths\n",
    "\n",
    "$P(X_1, ..., X_n) = \\prod_i P(X_i \\mid parents(X_i))$"
   ]
  },
  {
   "cell_type": "markdown",
   "metadata": {},
   "source": [
    "**e.g.** given joint distribution over $X_1, ..., X_n$ as $P(X_1, X_2, ..., X_n)$\n",
    "\n",
    "can write as $P(X_1) P(X_2 | X_1) P(X_3 | X_2, X_1) P(X_4 | X_3, X_2, X_1) \\cdots$\n",
    "\n",
    "but there may not be all direct dependencies (conditional independence)\n",
    "\n",
    "perhaps $X_4$ depends on $X_2$ and $X_3$ but not directly on $X_1$  \n",
    "then even if $X_2$ and $X_3$ depend directly on $X_1$, we can write \n",
    "$P(X_4 | X_3, X_2, X_1) = P(X_4 | X_3, X_2)$"
   ]
  },
  {
   "attachments": {
    "image.png": {
     "image/png": "[encoded data removed]"
    }
   },
   "cell_type": "markdown",
   "metadata": {},
   "source": [
    "**e.g.** bayesian linear regression\n",
    "\n",
    "$t_i$ is generated by $w$, $\\phi(x_i)$, and $\\sigma$ where we observe $t_i$ and $\\phi(x_i)$\n",
    "\n",
    "![image.png](attachment:image.png)"
   ]
  },
  {
   "cell_type": "markdown",
   "metadata": {},
   "source": [
    "**e.g.** generative model\n",
    "\n",
    "$t_i \\sim Discrete(\\{p_j\\}_{j=0}^k)$  \n",
    "$x_i \\mid t_i \\sim \\mathcal{N}(\\mu_{t_i}, \\Sigma_{t_i})$\n",
    "\n",
    "so $x_i$ depend on $t_i, \\mu_j, \\Sigma_j$"
   ]
  },
  {
   "cell_type": "markdown",
   "metadata": {},
   "source": [
    "things we would like to solve\n",
    "\n",
    "* $p(x_k) = \\int_{x_1} \\int_{x_2} \\cdots \\int_{x_{k-1}} \\int_{x_{k+1}} \\cdots \\int_{x_n} p(x_1, ..., x_n) dx_1 \\cdots dx_n$\n",
    "* $p(x_k | x_1 = a, x_2 = b, ...)$\n",
    "* $\\arg\\max_{x_k} p(x_k | x_1 = a, ...)$"
   ]
  },
  {
   "cell_type": "markdown",
   "metadata": {},
   "source": [
    "**def** markov blanket\n",
    "\n",
    "given $children(z)$, $parents(z)$, $parents(children(z))$ observed, $z$ is conditionally independent of all other variables"
   ]
  },
  {
   "cell_type": "markdown",
   "metadata": {},
   "source": [
    "**def** markov random field\n",
    "\n",
    "* given an undirected graph $G = V, E$\n",
    "* for any clique (fully connected subgraph) $C \\subset V$, we can write a potential function  \n",
    "$\\psi_C(C) \\geq 0$  \n",
    "note that $C$ is a set of vertices, e.g., if $|C_k| = 3$, then $C_k = \\{0, 0, 0\\}, \\{0, 0, 1\\}, \\{0, 1, 0\\}$, etc.\n",
    "* then the joint probability  \n",
    "$p(x_1, ..., x_n) = \\frac{1}{Z} \\prod_k \\psi_{C_k} (C_k)$  \n",
    "where $Z = \\sum_{x_1, ..., x_n} \\prod_k \\psi_{C_k} (C_k)$  \n",
    "$x_k \\in \\{0, 1\\}$"
   ]
  },
  {
   "cell_type": "markdown",
   "metadata": {},
   "source": [
    "**def** factor graph\n",
    "\n",
    "two types of nodes\n",
    "\n",
    "* random variables\n",
    "* factors (similar to potential functions)"
   ]
  },
  {
   "cell_type": "markdown",
   "metadata": {},
   "source": [
    "## Inference on networks\n",
    "\n",
    "**e.g.** \n",
    "\n",
    "we wish to know $P(X_5 \\mid X_1 = x_1, X_8 = x_8)$  \n",
    "$= \\sum_{X_2, X_3, X_4, X_6, X_7, X_9, X_{10}} P(X_1 = x_1) P(X_2) P(X_3) P(X_4 | x_1, X_2, X_3) P(X_6) P(X_5 | X_4, X_6) P(X_7 | X_5) P(X_8 = x_8 | X_5) P(X_{10}) P(X_9 | X_5, X_{10})$\n",
    "\n",
    "but we can simplify this first\n",
    "\n",
    "first sum over $X_7$ since it has one parent and no children:  \n",
    "$\\sum \\cdots \\sum_{X_7} P(X_7 | X_5)$  \n",
    "then we note that $\\sum_{X_7} P(X_7 | X_5) = 1$ since it is a probability\n",
    "\n",
    "we can try to remove $X_{10}$ which has no parents but one child $X_9$ (which has parents $X_5, X_{10}$ and no children  \n",
    "then we get  \n",
    "$\\sum \\cdots \\sum_{X_{10}} P(X_{10}) P(X_9 | X_{10}, X_5)$  \n",
    "$= f_{X_{10}}(x_9, x_5)$\n",
    "\n",
    "this is called ***variable elimination***\n",
    "\n",
    "### belief propagation"
   ]
  },
  {
   "cell_type": "markdown",
   "metadata": {},
   "source": [
    "## MCMC\n",
    "\n",
    "transitions constructed such that the stationary distribution of the markov chain is the posterior distribution which we want to approximate  \n",
    "taking a long walk in the markov chain and using the last step serves as an implementation of sampling from the posterior  \n",
    "repeat many times to get multiple posterior samples\n",
    "\n",
    "**def** $p(\\cdot)$ is stationary for $T(\\cdot)$ iff $\\forall s_i$, $p(s_i) = \\sum_j p(s_j) T(s_i | s_j)$\n",
    "\n",
    "guaranteed to exist under some conditions on markov chains\n",
    "\n",
    "### Gibbs sampling\n",
    "\n",
    "to sample from distribution over $V_1, ..., V_n$:  \n",
    "repeat:\n",
    "\n",
    "1. pick $i \\in \\{1, .., n\\}$ uniformly\n",
    "2. draw new value for $V_i$ from $p(v_i \\mid v_1, ..., v_{i-1}, v_{i+1}, ..., v_n\\}$\n",
    "\n",
    "**e.g.** \n",
    "\n",
    "* graphical model $X \\to Y \\to Z$\n",
    "* $X \\sim Bernoulli(.6)$\n",
    "* $Y$ can be $a, b, c$ s.t. $p(a, b, c \\mid X=1) = (.3, .3 .6)$ and $p(a, b, c | X=0) = (.1, .6, .3)$\n",
    "* $Z$ is binary s.t. $p(z | Y=a) = .2$, $p(z | Y=b) = .4$, $p(z | Y=c) = .5$\n",
    "* current sample is $(X, Y, Z) = (0, b, 1)$\n",
    "\n",
    "then to resample $Y$,  \n",
    "$p(y) \\propto p(x) p(y|x) p(z|y)$  \n",
    "then we compute this for each $a, b, c$, fixing $X=0$ and $Z=1$,  \n",
    "then normalize"
   ]
  },
  {
   "cell_type": "markdown",
   "metadata": {},
   "source": [
    "### Metropolis Hastings sampling\n",
    "\n",
    "to sample from distribution over $V_1, ..., V_n$  \n",
    "define proposal distribution $q(V' | V)$ s.t. $V, V'$ are assignments to all variables  \n",
    "repeat:\n",
    "\n",
    "1. sample $V' \\sim q(V' | V)$\n",
    "2. calculate $A = \\min(1, \\frac{p(V') q(V | V')}{p(V) q(V'|V)})$\n",
    "3. with probability $A$, let $V \\leftarrow V'$"
   ]
  },
  {
   "cell_type": "markdown",
   "metadata": {},
   "source": [
    "detailed balance\n",
    "\n",
    "* $p$ is the intended distribution\n",
    "* $T$ are the transitions of the markov chain\n",
    "\n",
    "$p(a) T(b | a) = p(b) T(a | b)$\n",
    "\n",
    "1. detailed balance for $p$ $\\implies$ $p$ is stationary for the markov chain  \n",
    "$\\sum_j p(s_j) T(s_i | s_j)$  \n",
    "$= \\sum_j p(s_i) T(s_j | s_i)$  \n",
    "$= p(s_i) \\sum_j T(s_j | s_i)$  \n",
    "$= p(s_i)$\n",
    "2. MH statisfies detailed balance for $p$  \n",
    "$p(a) T(b | a)$  \n",
    "$= p(a) q(b | a) A$  \n",
    "$= \\min(p(a) q(b | a), p(b) q(a | b))$  \n",
    "$= p(b) q(a | b) \\min(1, \\frac{p(a) q(b | a)}{p(b) q(a | b)})$  \n",
    "$= p(b) T(a | b)$\n",
    "3. Gibbs is MH with $A=1$ at every sampling iteration  \n",
    "let $x$ be the current state, and write it as $\\tilde{x}_i, x_r$ s.t. $x_r$ is the rest of the string and $\\tilde{x}_i$ is the current value of $x_i$  \n",
    "let $y = \\hat{x}_i, x_r$ be a potential next state  \n",
    "the proposal distribution is through the conditional probability: $q(y | x) = p(\\hat{x}_i | x_r)$  \n",
    "then the numerator is the same as the denominator in $A$, so we just get $A=1$  \n",
    "$p(y) T(x | y) = p(\\hat{x}_i, x_r) p(\\tilde{x}_i | x_r)$  \n",
    "$= p(\\hat{x}_i | x_r) p(x_r) p(\\tilde{x}_i | x_r)$  \n",
    "$= p(\\hat{x} | x_r) p(\\tilde{x}_i, x_r)$  \n",
    "$= p(x) T(y | x)$"
   ]
  },
  {
   "cell_type": "markdown",
   "metadata": {},
   "source": [
    "## Latent dirichlet analysis\n",
    "\n",
    "**def** dirichlet distribution\n",
    "\n",
    "* let $\\mu = \\begin{bmatrix} \\mu_1 \\\\ \\vdots \\\\ \\mu_k \\end{bmatrix}$ \n",
    "such that $\\sum_i \\mu_i = 1$\n",
    "* let $\\alpha \\in \\mathbb{R}^k$ and define $\\alpha_0 = \\sum_i \\alpha_i$\n",
    "* then $\\mu \\sim Dirichlet(\\alpha)$ iff \n",
    "$p(\\mu) = \\frac{\\Gamma(\\alpha_0)}{\\prod \\Gamma(\\alpha_i)} \\prod \\mu_i^{\\alpha_i - 1}$\n",
    "\n",
    "dirichlet is a conjugate prior for a multivariate distribution"
   ]
  },
  {
   "attachments": {
    "image.png": {
     "image/png": "[encoded data removed]"
    }
   },
   "cell_type": "markdown",
   "metadata": {},
   "source": [
    "**def** generative model for LDA\n",
    "\n",
    "* for each $d$, draw $\\theta_{k | d} \\sim Dirichlet(\\theta_d | \\alpha)$\n",
    "* for each $k$, draw $\\phi_{i | k} \\sim Dirichlet(\\phi_k | \\beta)$\n",
    "* for each $d$, for each location $j$ in $d$, \n",
    "    * draw $z^{j, d} \\sim \\theta_{k | d}$\n",
    "    * draw $w^{j, d} \\sim \\phi_{i | k = z^{j, d}}$\n",
    "    \n",
    "![image.png](attachment:image.png)"
   ]
  },
  {
   "cell_type": "markdown",
   "metadata": {},
   "source": [
    "### latent semantics\n",
    "\n",
    "let $w$ be the number of words, $d$ be the number of documents, and $t$ be the number of documents, and pick $q$ dimensions\n",
    "\n",
    "LSA: $C = U D V^\\top$ where $U \\in \\mathbb{R}^w \\times q$ and $V \\in \\mathbb{R}^{q \\times d}$  \n",
    "topic model: $C = \\Phi \\Theta$ where $C \\in \\mathbb{R}^{w \\times t}$ and $\\Theta \\in \\mathbb{R}^{t \\times d}$"
   ]
  },
  {
   "cell_type": "markdown",
   "metadata": {},
   "source": [
    "**inference** on LDA\n",
    "\n",
    "* $N = \\sum N_d$ is total number of words\n",
    "* $N_d$ is number of words in document $d$\n",
    "* $N_k$ is the number of times topic $k$ is used\n",
    "* $N_{k | d}$ is the number of times topic $k$ is used in document $d$\n",
    "* $N_{i|k}$ is the number of times word $i$ is used in topic $k$\n",
    "\n",
    "* prior: $(\\prod_d Dir(\\theta_d | \\alpha)) \\prod_k Dir(\\phi_k | \\beta))$\n",
    "* likelihood: $(\\prod_d \\prod_k \\theta_{k|d}^{N_{k|d}}) (\\prod_k \\prod_i \\phi){i|k}^{N_{i|k}})$\n",
    "* posterior: \n",
    "    * $\\theta_d | D, Z \\sim Dirichlet(\\alpha + N_{k|d})$  \n",
    "    * $phi | D, Z \\sim Dirichlet(\\beta + N_{i|k})$\n",
    "    \n",
    "but this assumes we observe topics $Z$ and have counts $N_k, N_{k|d}, N_{i|k}$\n",
    "\n",
    "gibbs sampling: marginalize $\\phi$, $\\theta$ and sample $Z$  \n",
    "$N^-, N_d^-, N_{k|d}^-, N_{i|k}^-$ are counts without $z^{j, d}, w^{j, d}$  \n",
    "$p(z_k^{j, d} = 1 | D^-, Z^-) p(w^{j, d} = i | z_k^{j, d} = 1) \\propto \\frac{\\alpha_k + N_{k|d}^-}{\\alpha_0 + N_d^-} \\frac{\\beta_i + N_{i|k}^-}{\\beta_0 + N_k^-}$"
   ]
  },
  {
   "cell_type": "markdown",
   "metadata": {},
   "source": [
    "## Expectation Maximization\n",
    "\n",
    "useful when can't marginalize variables directly  \n",
    "i.e., no closed form of marginal probability"
   ]
  },
  {
   "cell_type": "markdown",
   "metadata": {},
   "source": [
    "**e.g.** gaussian mixture model\n",
    "\n",
    "model\n",
    "\n",
    "* $Z_i \\sim Discrete(\\{p_j\\})$\n",
    "* $Y_i | Z_i \\sim \\mathcal{N}(\\mu_{Z_i}, \\Sigma_{Z_i})$\n",
    "\n",
    "want to maximize $p(y | p_j, \\mu_j, \\Sigma_j) = \\sum_z p(y, z | p_j, \\mu_j, \\Sigma_j)$\n",
    "\n",
    "but we don't observe the $Z_i$"
   ]
  },
  {
   "cell_type": "markdown",
   "metadata": {},
   "source": [
    "**e.g.** bayesian linear regression\n",
    "\n",
    "$w \\sim \\mathcal{N}(0, \\alpha^{-1} I)$  \n",
    "$t | w \\sim \\mathcal{N}(\\Phi w, \\beta^{-1} I)$\n",
    "\n",
    "want to maximize $p(t | \\alpha, \\beta) = \\int_w p(t | w, \\beta) p(w | \\alpha) dw$\n",
    "\n",
    "we don't observe $\\alpha$, $\\beta$"
   ]
  },
  {
   "cell_type": "markdown",
   "metadata": {},
   "source": [
    "**algorithm**\n",
    "\n",
    "initialize $\\theta$\n",
    "\n",
    "until convergence:\n",
    "\n",
    "1. compute $Q(\\theta^{new}, \\theta^{old}) = E_{Z | Y, \\theta^{old}}[\\log p(Y, Z | \\theta^{new})]$  \n",
    "2. set $\\theta^{old} = \\arg\\max_{\\theta^{new}} Q(\\theta^{new}, \\theta^{old})$\n",
    "\n",
    "hill-climbing method"
   ]
  },
  {
   "cell_type": "markdown",
   "metadata": {},
   "source": [
    "**e.g.** gaussian mixture model\n",
    "\n",
    "likelihood: $L = \\prod_i \\prod_j (p_j p(y_i | z_i = j))^{z_{ij}}$  \n",
    "$= \\prod_i \\prod_j ( (2 \\pi)^{-d/2} |\\Sigma_j|^{-1/2} e^{-\\frac{1}{2} (y_i - \\mu_j)^\\top \\Sigma_j^{-1} (y_i - \\mu_j)})^{z_{ij}}$\n",
    "\n",
    "then $\\ell = \\sum_i \\sum_j z_{ij} \\log \\alpha_{ij}$ where $\\alpha_{ij}$ is the base of the exponent in the likelihood expression\n",
    "\n",
    "$Q = E[\\sum_{ij} Z_{ij} \\log \\alpha_{ij}^{new}]$\n",
    "$= \\sum_{ij} \\log \\alpha_{ij}^{new} E[Z_{ij}]$\n",
    "$= \\sum_{ij} \\log \\alpha_{ij}^{new} P(Z_{ij} = 1 | Y, \\theta^{old})$  \n",
    "$= \\sum_{ij} \\log \\alpha_{ij}^{new} \\frac{P(Z_{ij} = 1 | \\theta^{old}) P(Y_i | Z_{ij} = 1, \\theta^{old})}{\\sum_l P(Z_{il} = 1 | \\theta^{old}) P(Y_i | Z_{il} = 1, \\theta^{old})}$  \n",
    "$= \\sum_{ij} \\gamma_{ij} \\log \\alpha_{ij}^{new}$  \n",
    "$= \\sum_{ij} \\gamma_{ij} (\\log p_j^{new}  - \\frac{1}{2} \\log |\\Sigma_j| - \\frac{1}{2} (y_i - \\mu_j)^\\top \\Sigma_j^{-1} (y_i - \\mu_j))$\n",
    "\n",
    "$\\gamma_{ij}$ is the probability that $y_i$ is in class $j$ given current $\\mu_j$, $\\Sigma_j$\n",
    "\n",
    "then update:\n",
    "* $n_j = \\sum_i \\gamma_{ij}$ is the \"count\" of $y_i$ in class $j$  \n",
    "* $\\mu_j = n_j^{-1} \\sum_i \\gamma_{ij} y_i$  \n",
    "* $\\Sigma_j = n_j^{-1} \\sum_i \\gamma_{ij} (y_i - \\mu_j)^\\top (y_i - \\mu_j)^\\top$  \n",
    "* $p_j = n_j / n$"
   ]
  },
  {
   "cell_type": "markdown",
   "metadata": {},
   "source": [
    "**e.g.** bayesian linear regression\n",
    "\n",
    "recall  \n",
    "$S_n = (\\alpha I + \\beta \\Phi^\\top \\Phi)^{-1}$  \n",
    "$m_n = \\beta S_n \\Phi^\\top t$\n",
    "\n",
    "evidence = $p(t) = \\int_w p(w) p(t | w) dw$\n",
    "\n",
    "$p(w, t) \\propto \\alpha^{d/2} e^{-\\frac{\\alpha}{2} w^\\top w} \\beta^{n/2} e^{-\\frac{\\beta}{2} (t - \\Phi w)^\\top (t - \\Phi w)}$\n",
    "\n",
    "$Q = E_{p(w | t, \\alpha^{old}, \\beta^{old})}[\\frac{d}{2} \\log \\alpha - \\frac{\\alpha}{2} w^\\top w + \\frac{n}{2} \\log \\beta - \\frac{\\beta}{2} t^\\top t - \\frac{\\beta}{2} w^\\top \\Phi^\\top \\Phi w + \\beta t^\\top \\Phi w]$  \n",
    "$= \\frac{d}{2} \\log \\alpha - \\frac{\\alpha}{2} (|m_n|^2 + tr(S_n)) + \\frac{n}{2} \\log \\beta - \\frac{\\beta}{2} t^\\top t - \\frac{\\beta}{2} m_n^\\top \\Phi^\\top \\Phi m_n - \\frac{\\beta}{2} tr(\\Phi^\\top \\Phi S_n) + \\beta t^\\top \\Phi m_n$\n",
    "\n",
    "then to maximize $Q$ w.r.t. $\\alpha, \\beta$, take derivatives and set to 0 to get ...\n",
    "\n",
    "$\\alpha = \\frac{d}{|m_n|^2 + tr(S_n)}$  \n",
    "$\\beta^{-1} = \\frac{1}{n} |t - \\Phi m_n|^2 + tr(\\Phi^\\top \\Phi S_n)$"
   ]
  },
  {
   "cell_type": "markdown",
   "metadata": {},
   "source": [
    "**lemma**\n",
    "\n",
    "note that if $X \\sim \\mathcal{N}(\\mu, \\Sigma)$ ...\n",
    "\n",
    "* $E[X] = \\mu$\n",
    "* $E[X^\\top X] = \\mu^\\top \\mu + tr(\\Sigma)$\n",
    "* $E[X^\\top C X] = \\mu^\\top C \\mu + tr(C \\Sigma)$"
   ]
  },
  {
   "cell_type": "markdown",
   "metadata": {},
   "source": [
    "**theorem**\n",
    "\n",
    "if $Q(\\theta^{new}, \\theta^{old}) > Q(\\theta^{old}, \\theta^{old})$, then $p(y | \\theta^{new}) > p(y | \\theta^{old})$\n",
    "\n",
    "proof\n",
    "\n",
    "* let $Q_{new, old} - Q_{old, old} > 0$\n",
    "* then $E[\\log \\frac{p(Y, Z | \\theta^{new})}{p(Y, Z | \\theta^{old})}]$  \n",
    "$= E[\\log \\frac{p(Y | \\theta^{new})}{p(Y | \\theta^{old})} + \\log \\frac{p(Z | Y, \\theta^{new})}{p(Z | Y, \\theta^{old})}]$  \n",
    "$= \\log \\frac{p(Y | \\theta^{new})}{p(Y | \\theta^{old})} + E[\\log \\frac{p(Z | Y, \\theta^{new})}{p(Z | Y, \\theta^{old})}]$\n",
    "* the second term is less than zero since $\\log$ is concave so the expectation of the log is less than the log of the expectation by Jensen's inequality, and the log of the expectation is just $\\log 1 = 0$"
   ]
  },
  {
   "cell_type": "markdown",
   "metadata": {},
   "source": [
    "what to do if we cannot compute posterior directly?\n",
    "\n",
    "* so far we've seen\n",
    "    * laplace approximation\n",
    "    * mcmc\n",
    "* alternatively\n",
    "    * variational approximation\n",
    "        * commit to \"type of simple answer\"\n",
    "        * come up with some simplification of the posterior"
   ]
  },
  {
   "cell_type": "markdown",
   "metadata": {},
   "source": [
    "## Variational Bayesian Methods\n",
    "\n",
    "let $q(z) \\in$ some family of simple distributions  \n",
    "we want to find the \"best\" such $q(z)$  \n",
    "\"best\": relate $q(z)$ to the true posterior $p(z | y)$  \n",
    "minimize distance between possible $q(z)$ and true $p(z | y)$  \n",
    "e.g., KL divergence\n",
    "\n",
    "given family of distributions $Q$, we want to choose $q = \\arg\\min_Q d_{KL}(q(z) || p(z | y))$\n",
    "\n",
    "but we don't know $p$"
   ]
  },
  {
   "cell_type": "markdown",
   "metadata": {},
   "source": [
    "**def** KL divergence\n",
    "\n",
    "given two densities $p_1$ and $p_2$ with distributions $P_1$ and $P_2$\n",
    "\n",
    "$d_{KL}(P_1 || P_2) = \\int p_1(x) \\log \\frac{p_1(x)}{p_2(x)} dx$\n",
    "\n",
    "**corollary** KL divergence is nonnegative  \n",
    "$-d_{KL}(P_1 || P_2) = \\int p_1(x) \\log \\frac{p_2(x)}{p_1(x)} dx$  \n",
    "$\\leq \\log p_1(x) \\log \\frac{p_2(x)}{p_1(x)}dx$ (Jensen's inequality)  \n",
    "$= \\log 1 = 0$\n",
    "\n",
    "**corollary** KL divergence is not symmetric"
   ]
  },
  {
   "cell_type": "markdown",
   "metadata": {},
   "source": [
    "let $\\log p(y) = L + d_{KL}(q(z) || p(z | y))$  \n",
    "$= \\int q(z) \\log \\frac{p(z , y)}{q(z)} dz + \\int q(z) \\log \\frac{q(z)}{p(z | y)} dz$  \n",
    "$= \\int q(z) \\log \\frac{p(y) p(z | y)}{q(z)} \\frac{q(z)}{p(z | y)} dz$  \n",
    "$= \\int q(z) \\log p(y) dz$  \n",
    "$= \\log p(y)$\n",
    "\n",
    "so $p(y)$ is constant w.r.t. $z$\n",
    "\n",
    "$\\implies$ minimizing KL-divergence is the same as maximizing $L = \\int q(z) \\log \\frac{p(z , y)}{q(z)} dz$ (evidence lower bound, variational lower bound) (ELBO, VLB)\n",
    "\n",
    "since KL-divergence is positive, $L \\leq -\\log p(y)$"
   ]
  },
  {
   "cell_type": "markdown",
   "metadata": {},
   "source": [
    "$L = E_{q(z | \\theta)}[\\log \\frac{p(y, z)}{q(z)}]$  \n",
    "$= E_{q(Z | \\theta)}[\\log p(Y, Z)] - E_{q(Z | \\theta)}[\\log q(Z | \\theta)]$  \n",
    "$= E[\\log \\log p(z)] + E[\\log p(Y | Z)] - E[\\log q(Z)]$  \n",
    "$= E[\\log p(Y | Z)] - d_{KL}(q(z) || p(z))$"
   ]
  },
  {
   "cell_type": "markdown",
   "metadata": {},
   "source": [
    "suppose original model has hyperparameters $\\phi$ and $q(z)$ has parameters $\\theta$"
   ]
  },
  {
   "cell_type": "markdown",
   "metadata": {},
   "source": [
    "**def** variational EM algorithm\n",
    "\n",
    "expectation: maximize $L$ w.r.t. $\\theta$  \n",
    "assuming $\\phi$ is fixed, pick best $q(z)$\n",
    "\n",
    "maximization: maximize $L$ w.r.t. $\\phi$  \n",
    "assuming $q$ (and therefore $\\theta$) is fixed, choose best $\\phi$"
   ]
  },
  {
   "cell_type": "markdown",
   "metadata": {},
   "source": [
    "EM is a special case of variational EM when $Q$ is not constrained  \n",
    "expectation step picks $q(z) = p(z | y)$  \n",
    "need to plug in new $q(z)$ into $L$ and consider maximization step  \n",
    "so we use $q(z) = p(x | y, \\phi^{old})$  \n",
    "$E_{Z | Y, \\phi^{old}}[\\log p(Y, Z | \\phi^{new}) - E_{Z | Y, \\phi^{old}}[\\log p(Z | Y, \\phi^{old}]$  \n",
    "maximization step is finding $\\phi$ that maximizes the above, and the second term does not depend on $\\phi^{new}$ so we can discard it  \n",
    "so we are left with $Q(\\phi^{new}, \\phi^{old})$ from EM"
   ]
  },
  {
   "cell_type": "markdown",
   "metadata": {},
   "source": [
    "### relating to variational autoencoders\n",
    "\n",
    "$\\sum \\log p(y_i) \\geq \\sum_i E_{q(Z_i)} [\\log p(Z_i | Y_i)] - d_{KL}(q(z_i), p(z_i))$\n",
    "\n",
    "$q(z_i)$ implicitly depends on $y_i$\n",
    "\n",
    "VAE makes dependence explicit  \n",
    "$q(z_i | y_i, \\theta)$  \n",
    "represented as neural network  \n",
    "also represent $p(y_i | z_i)$ as neural network\n",
    "\n",
    "decoder is now $p(y_i | z_i, W_1)$  \n",
    "encoder is $q(z_i | y_i, W_2)$"
   ]
  },
  {
   "cell_type": "markdown",
   "metadata": {},
   "source": [
    "# Course Summary\n",
    "\n",
    "* ML as optimization\n",
    "* probability models\n",
    "* bayesian models\n",
    "* model selection\n",
    "* graphical models\n",
    "* deep models\n",
    "* deep models + architecture\n",
    "* deep + bayesian models"
   ]
  },
  {
   "cell_type": "markdown",
   "metadata": {},
   "source": []
  }
 ],
 "metadata": {
  "kernelspec": {
   "display_name": "Python 3",
   "language": "python",
   "name": "python3"
  },
  "language_info": {
   "codemirror_mode": {
    "name": "ipython",
    "version": 3
   },
   "file_extension": ".py",
   "mimetype": "text/x-python",
   "name": "python",
   "nbconvert_exporter": "python",
   "pygments_lexer": "ipython3",
   "version": "3.6.3"
  }
 },
 "nbformat": 4,
 "nbformat_minor": 2
}
