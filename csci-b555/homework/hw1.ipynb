{
 "cells": [
  {
   "cell_type": "markdown",
   "metadata": {},
   "source": [
    "# CSCI-B555\n",
    "## Written Assignment 1\n",
    "\n",
    "### John Koo"
   ]
  },
  {
   "cell_type": "markdown",
   "metadata": {},
   "source": [
    "### Problem 1\n",
    "\n",
    "$E[\\frac{1}{N} \\sum_i (X_i - \\mu)^2]$  \n",
    "$= \\frac{1}{N} \\sum_i E[(X_i - \\mu)^2]$  \n",
    "$= \\frac{1}{N} (\\sum_i E[X_i^2] - 2 \\mu \\sum_i E[X_i] + N \\mu^2)$  \n",
    "\n",
    "Using the fact that $X_i$'s are iid and $E[X_i^2] = Var(X_i) + E[X_i]^2 = \\sigma^2 + \\mu^2$:\n",
    "\n",
    "$= \\frac{1}{N} (N \\sigma^2 + N \\mu^2 - 2 N \\mu^2 + N \\mu^2)$  \n",
    "$= \\sigma^2$"
   ]
  },
  {
   "cell_type": "markdown",
   "metadata": {},
   "source": [
    "### Problem 2\n",
    "\n",
    "#### Part i\n",
    "\n",
    "$L(\\lambda) = \\prod_i \\frac{e^{-\\lambda} \\lambda^{x_i}}{x_i!}$\n",
    "$= \\frac{e^{-N \\lambda} \\lambda^{\\sum_i x_i}}{\\prod_i x_i!}$  \n",
    "$\\implies \\ell(\\lambda) = -N \\lambda + \\log \\lambda \\sum_i x_i - \\sum_i \\log x_i!$\n",
    "\n",
    "Taking the derivative w.r.t. $\\lambda$ and setting to 0 yields:\n",
    "\n",
    "$0 = -N + \\frac{\\sum_i x_i}{\\lambda}$  \n",
    "$\\implies \\hat{\\lambda}_{ML} = \\frac{\\sum_i X_i}{N}$\n",
    "\n",
    "#### Part ii\n",
    "\n",
    "$E[\\frac{\\sum_i X_i}{N}]$\n",
    "$= \\frac{1}{N} \\sum_i E[X_i]$\n",
    "$= \\frac{1}{N} N \\lambda$\n",
    "$= \\lambda$\n",
    "\n",
    "$Var(\\frac{\\sum_i X_i}{N})$\n",
    "$= N^{-2} \\sum_i Var(X_i)$\n",
    "$= N^{-2} N \\lambda$\n",
    "$= \\frac{\\lambda}{N}$"
   ]
  },
  {
   "cell_type": "markdown",
   "metadata": {},
   "source": [
    "### Problem 3\n",
    "\n",
    "$KL(p || q) = -\\int p(x) \\log \\frac{q(x)}{p(x)} dx$  \n",
    "$= -\\int p(x) \\big( \\log q(x) - \\log p(x) \\big) dx$  \n",
    "$= \\int p(x) \\big( \\log p(x) - \\log q(x) \\big) dx$  \n",
    "$= E_p[\\log p(X) - \\log q(X)]$  \n",
    "$= E_p \\big[ -\\frac{1}{2} \\log 2 \\pi \\sigma^2 - \\frac{(X - \\mu)^2}{2 \\sigma^2} + \\frac{1}{2} \\log 2 \\pi s^2 + \\frac{(X - m)^2}{2 s^2} \\big]$  \n",
    "$= \\frac{1}{2} \\log \\frac{s^2}{\\sigma^2} - \\frac{1}{2 \\sigma^2} E_p[(X - \\mu)^2] + \\frac{1}{2 s^2} E_p[(X - m)^2]$  \n",
    "$= \\log \\frac{s}{\\sigma} - \\frac{1}{2} + \\frac{1}{2 s^2} E_p[(X-m)^2]$  \n",
    "$= \\log \\frac{s}{\\sigma} - \\frac{1}{2} + \\frac{E_p[X^2] - 2 m E_p[X] + m^2}{2 s^2}$  \n",
    "$= \\log \\frac{s}{\\sigma} - \\frac{1}{2} + \\frac{\\sigma^2 + \\mu^2 - 2 m \\mu + m^2}{2 s^2}$  \n",
    "$= \\log \\frac{s}{\\sigma} - \\frac{1}{2} + \\frac{1}{2} \\frac{\\sigma^2}{s^2} + \\frac{(\\mu - m)^2}{2 s^2}$"
   ]
  },
  {
   "cell_type": "markdown",
   "metadata": {},
   "source": [
    "### Problem 4\n",
    "\n",
    "$E[\\mu_j] = \\frac{\\Gamma(\\alpha_0)}{\\prod_i^M \\Gamma(\\alpha_i)} \\int \\mu_j \\prod_i^M \\mu_i^{\\alpha_i - 1} d\\mu$  \n",
    "Then we just make the change of variables $\\alpha_j' = \\alpha_j + 1$ and we get:  \n",
    "$= \\frac{\\Gamma(\\alpha_0)}{\\prod_i^M \\Gamma(\\alpha_i)} \\frac{\\Gamma(\\alpha_1) \\cdots \\Gamma(\\alpha_j') \\cdots \\Gamma(\\alpha_M)}{\\Gamma(\\alpha_0 + 1)}$ (since $\\alpha_0 = \\sum_i^M \\alpha_i$)  \n",
    "$= \\frac{\\Gamma(\\alpha_0) \\Gamma(\\alpha_j')}{\\Gamma(\\alpha_0 + 1) \\Gamma(\\alpha_j)}$  \n",
    "$= \\frac{\\Gamma(\\alpha_0) \\Gamma(\\alpha_j + 1)}{\\Gamma(\\alpha_0 + 1) \\Gamma(\\alpha_j)}$  \n",
    "$\\frac{\\Gamma(\\alpha_j)}{\\Gamma(\\alpha_0)}$\n",
    "\n",
    "$Var(\\mu_j) = E[\\mu_j^2] - E[\\mu_j]^2$  \n",
    "Using the same change of variables trick as before, we can see that \n",
    "$E[\\mu_j^2] = \\frac{\\Gamma(\\alpha_0) \\Gamma(\\alpha_j + 2)}{\\Gamma(\\alpha_0 + 2) \\Gamma(\\alpha_j)}$  \n",
    "(or more generally, $E[\\mu_j^k] = \\frac{\\Gamma(\\alpha_0) \\Gamma(\\alpha_j + k)}{\\Gamma(\\alpha_0 + k) \\Gamma(\\alpha_j)}$)  \n",
    "Simplifying this, we get $\\frac{\\alpha_j (\\alpha_j + 1)}{\\alpha_0 (\\alpha_0 + 1)}$  \n",
    "So $Var(\\mu_j) = \\frac{\\alpha_j (\\alpha_j + 1)}{\\alpha_0 (\\alpha_0 + 1)} - \\frac{\\alpha_j^2}{\\alpha_0^2}$  \n",
    "$= \\frac{\\alpha_j (\\alpha_0 - \\alpha_j)}{\\alpha_0^2 (\\alpha_0 + 1)}$\n",
    "\n",
    "$Cov(\\mu_j, \\mu_l) = E[\\mu_j \\mu_l] - E[\\mu_j] E[\\mu_l]$  \n",
    "The same change of variables trick works here, so we get  \n",
    "$E[\\mu_j \\mu_l] = \\frac{\\Gamma(\\alpha_0) \\Gamma(\\alpha_j + 1) \\Gamma(\\alpha_l + 1)}{\\Gamma(\\alpha_0 + 2) \\Gamma(\\alpha_j) \\Gamma(\\alpha_l)}$\n",
    "$= \\frac{\\alpha_j \\alpha_l}{(\\alpha_0 + 1) \\alpha_0}$  \n",
    "So $Cov(\\mu_j, \\mu_l) = \\frac{\\alpha_j \\alpha_l}{(\\alpha_0 + 1) \\alpha_0} - \\frac{\\alpha_j \\alpha_l}{\\alpha_0^2}$  \n",
    "$= \\frac{\\alpha_j \\alpha_l \\alpha_0 - \\alpha_j \\alpha_l (\\alpha_0 + 1)}{\\alpha_0^2 (\\alpha_0 + 1)}$  \n",
    "$= -\\frac{\\alpha_j \\alpha_l}{\\alpha_0^2 (\\alpha_0 + 1)}$"
   ]
  },
  {
   "cell_type": "markdown",
   "metadata": {},
   "source": [
    "### Problem 5\n",
    "\n",
    "$p(\\mu | X) \\propto p(X | \\mu) p(\\mu)$  \n",
    "$\\propto \\exp \\big(-\\frac{1}{2 \\sigma^2} (\\sum (X_i - \\mu)^2 \\big) \\exp \\big(-\\frac{1}{2 \\sigma_0^2} (\\mu - \\mu_0)^2 \\big)$  \n",
    "$= \\exp \\big( -\\frac{1}{2 \\sigma^2} (\\sum X_i^2 - 2 \\mu \\sum X_i + N \\mu^2) - \\frac{1}{2 \\sigma_0^2} (\\mu - 2 \\mu_0 \\mu + \\mu_0^2) \\big)$  \n",
    "$\\propto \\exp \\bigg(-\\frac{1}{2} \\big (N / \\sigma^2 + 1 / \\sigma_0^2) \\mu^2 - (2 \\sum X_i / \\sigma^2 + 2 \\mu_0 / \\sigma_0^2) \\mu \\big) \\bigg)$  \n",
    "\n",
    "We can see that the variance is the inverse of the quadratic term:\n",
    "\n",
    "$Var(\\mu | X) = \\big(\\frac{1}{\\sigma_0^2} + \\frac{N}{\\sigma^2} \\big)^{-1}$\n",
    "\n",
    "To complete the square, we take half of the linear term and divide by the quadratic term:\n",
    "\n",
    "$E[\\mu | X] = \\big(\\frac{1}{\\sigma_0^2} + \\frac{N}{\\sigma^2} \\big)^{-1} \\big(\\frac{\\sum X_i}{\\sigma^2} + \\frac{\\mu_0}{\\sigma_0^2} \\big)$  \n",
    "$= \\frac{\\sigma_0^2 \\sigma^2}{N \\sigma_0^2 + \\sigma^2} \\big(\\frac{\\sum X_i}{\\sigma^2} + \\frac{\\mu_0}{\\sigma_0^2} \\big)$  \n",
    "$= \\frac{\\sigma_0^2 \\sum X_i}{N \\sigma_0^2 + \\sigma^2} + \\frac{\\sigma^2 \\mu_0}{N \\sigma_0^2 + \\sigma^2}$  \n",
    "$= \\frac{\\sigma^2}{N \\sigma_0^2 + \\sigma^2} \\mu_0 + \\frac{N \\sigma_0^2}{N \\sigma_0^2 + \\sigma^2} \\hat{\\mu}_{MLE}$\n",
    "\n",
    "where $\\hat{\\mu}_{MLE} = \\frac{1}{N} \\sum X_i$"
   ]
  },
  {
   "cell_type": "code",
   "execution_count": null,
   "metadata": {},
   "outputs": [],
   "source": []
  }
 ],
 "metadata": {
  "kernelspec": {
   "display_name": "Python 3",
   "language": "python",
   "name": "python3"
  },
  "language_info": {
   "codemirror_mode": {
    "name": "ipython",
    "version": 3
   },
   "file_extension": ".py",
   "mimetype": "text/x-python",
   "name": "python",
   "nbconvert_exporter": "python",
   "pygments_lexer": "ipython3",
   "version": "3.6.3"
  }
 },
 "nbformat": 4,
 "nbformat_minor": 2
}
